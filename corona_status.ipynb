{
 "cells": [
  {
   "cell_type": "code",
   "execution_count": 1,
   "metadata": {},
   "outputs": [
    {
     "ename": "KeyError",
     "evalue": "'PROJ_LIB'",
     "output_type": "error",
     "traceback": [
      "\u001b[0;31m---------------------------------------------------------------------------\u001b[0m",
      "\u001b[0;31mKeyError\u001b[0m                                  Traceback (most recent call last)",
      "\u001b[0;32m<ipython-input-1-d9467465a3b6>\u001b[0m in \u001b[0;36m<module>\u001b[0;34m\u001b[0m\n\u001b[0;32m----> 1\u001b[0;31m \u001b[0;32mfrom\u001b[0m \u001b[0mmpl_toolkits\u001b[0m\u001b[0;34m.\u001b[0m\u001b[0mbasemap\u001b[0m \u001b[0;32mimport\u001b[0m \u001b[0mBasemap\u001b[0m\u001b[0;34m\u001b[0m\u001b[0;34m\u001b[0m\u001b[0m\n\u001b[0m",
      "\u001b[0;32m/opt/tljh/user/lib/python3.7/site-packages/mpl_toolkits/basemap/__init__.py\u001b[0m in \u001b[0;36m<module>\u001b[0;34m\u001b[0m\n\u001b[1;32m    150\u001b[0m \u001b[0;34m\u001b[0m\u001b[0m\n\u001b[1;32m    151\u001b[0m \u001b[0;31m# create dictionary that maps epsg codes to Basemap kwargs.\u001b[0m\u001b[0;34m\u001b[0m\u001b[0;34m\u001b[0m\u001b[0;34m\u001b[0m\u001b[0m\n\u001b[0;32m--> 152\u001b[0;31m \u001b[0mpyproj_datadir\u001b[0m \u001b[0;34m=\u001b[0m \u001b[0mos\u001b[0m\u001b[0;34m.\u001b[0m\u001b[0menviron\u001b[0m\u001b[0;34m[\u001b[0m\u001b[0;34m'PROJ_LIB'\u001b[0m\u001b[0;34m]\u001b[0m\u001b[0;34m\u001b[0m\u001b[0;34m\u001b[0m\u001b[0m\n\u001b[0m\u001b[1;32m    153\u001b[0m \u001b[0mepsgf\u001b[0m \u001b[0;34m=\u001b[0m \u001b[0mopen\u001b[0m\u001b[0;34m(\u001b[0m\u001b[0mos\u001b[0m\u001b[0;34m.\u001b[0m\u001b[0mpath\u001b[0m\u001b[0;34m.\u001b[0m\u001b[0mjoin\u001b[0m\u001b[0;34m(\u001b[0m\u001b[0mbasemap_datadir\u001b[0m\u001b[0;34m,\u001b[0m\u001b[0;34m'epsg'\u001b[0m\u001b[0;34m)\u001b[0m\u001b[0;34m)\u001b[0m\u001b[0;34m\u001b[0m\u001b[0;34m\u001b[0m\u001b[0m\n\u001b[1;32m    154\u001b[0m \u001b[0mepsg_dict\u001b[0m\u001b[0;34m=\u001b[0m\u001b[0;34m{\u001b[0m\u001b[0;34m}\u001b[0m\u001b[0;34m\u001b[0m\u001b[0;34m\u001b[0m\u001b[0m\n",
      "\u001b[0;32m/opt/tljh/user/lib/python3.7/os.py\u001b[0m in \u001b[0;36m__getitem__\u001b[0;34m(self, key)\u001b[0m\n\u001b[1;32m    676\u001b[0m         \u001b[0;32mexcept\u001b[0m \u001b[0mKeyError\u001b[0m\u001b[0;34m:\u001b[0m\u001b[0;34m\u001b[0m\u001b[0;34m\u001b[0m\u001b[0m\n\u001b[1;32m    677\u001b[0m             \u001b[0;31m# raise KeyError with the original key value\u001b[0m\u001b[0;34m\u001b[0m\u001b[0;34m\u001b[0m\u001b[0;34m\u001b[0m\u001b[0m\n\u001b[0;32m--> 678\u001b[0;31m             \u001b[0;32mraise\u001b[0m \u001b[0mKeyError\u001b[0m\u001b[0;34m(\u001b[0m\u001b[0mkey\u001b[0m\u001b[0;34m)\u001b[0m \u001b[0;32mfrom\u001b[0m \u001b[0;32mNone\u001b[0m\u001b[0;34m\u001b[0m\u001b[0;34m\u001b[0m\u001b[0m\n\u001b[0m\u001b[1;32m    679\u001b[0m         \u001b[0;32mreturn\u001b[0m \u001b[0mself\u001b[0m\u001b[0;34m.\u001b[0m\u001b[0mdecodevalue\u001b[0m\u001b[0;34m(\u001b[0m\u001b[0mvalue\u001b[0m\u001b[0;34m)\u001b[0m\u001b[0;34m\u001b[0m\u001b[0;34m\u001b[0m\u001b[0m\n\u001b[1;32m    680\u001b[0m \u001b[0;34m\u001b[0m\u001b[0m\n",
      "\u001b[0;31mKeyError\u001b[0m: 'PROJ_LIB'"
     ]
    }
   ],
   "source": [
    "from mpl_toolkits.basemap import Basemap"
   ]
  },
  {
   "cell_type": "markdown",
   "metadata": {},
   "source": [
    "* json how to: https://realpython.com/python-requests/\n",
    "* USA source: https://covidtracking.com/us-daily/\n",
    "* world source: https://www.trackcorona.live\n",
    "* state pop source: https://www.census.gov/data/datasets/time-series/demo/popest/2010s-state-total.html#par_textimage_1873399417\n",
    "* state abbreviation source: https://www.50states.com/abbreviations.htm\n",
    "* county population source: https://www.census.gov/data/datasets/time-series/demo/popest/2010s-counties-total.html"
   ]
  },
  {
   "cell_type": "markdown",
   "metadata": {},
   "source": [
    "https://www.colors.lol/"
   ]
  },
  {
   "cell_type": "markdown",
   "metadata": {},
   "source": [
    "# Covid Data"
   ]
  },
  {
   "cell_type": "markdown",
   "metadata": {},
   "source": [
    "# State"
   ]
  },
  {
   "cell_type": "code",
   "execution_count": 1,
   "metadata": {},
   "outputs": [
    {
     "name": "stderr",
     "output_type": "stream",
     "text": [
      "\n",
      "Bad key \"text.kerning_factor\" on line 4 in\n",
      "/opt/tljh/user/lib/python3.7/site-packages/matplotlib/mpl-data/stylelib/_classic_test_patch.mplstyle.\n",
      "You probably need to get an updated matplotlibrc file from\n",
      "https://github.com/matplotlib/matplotlib/blob/v3.1.3/matplotlibrc.template\n",
      "or from the matplotlib source distribution\n"
     ]
    }
   ],
   "source": [
    "import pandas as pd\n",
    "import numpy as np\n",
    "import matplotlib.pyplot as plt\n",
    "import seaborn as sns\n",
    "import requests"
   ]
  },
  {
   "cell_type": "code",
   "execution_count": 2,
   "metadata": {},
   "outputs": [
    {
     "name": "stdout",
     "output_type": "stream",
     "text": [
      "Success!\n"
     ]
    }
   ],
   "source": [
    "state_response = requests.get('https://covidtracking.com/api/states')\n",
    "\n",
    "if state_response.status_code == 200:\n",
    "    print('Success!')\n",
    "else:\n",
    "    print('An error has occurred')\n",
    "    exit()\n"
   ]
  },
  {
   "cell_type": "code",
   "execution_count": 3,
   "metadata": {},
   "outputs": [],
   "source": [
    "# Convert json to df\n",
    "df_state = pd.json_normalize(state_response.json())"
   ]
  },
  {
   "cell_type": "code",
   "execution_count": 4,
   "metadata": {},
   "outputs": [],
   "source": [
    "# Import states, abbreviations, state population\n",
    "abbrevs = pd.read_csv('abbrevs.csv')\n",
    "statepop = pd.read_csv('statepop.csv').iloc[5:].loc[:,('NAME','POPESTIMATE2019')].reset_index(drop = True)\n",
    "state_pop = abbrevs.merge(statepop, left_on='State', right_on='NAME').loc[:,('NAME','Abbreviation','POPESTIMATE2019')]\n",
    "state_pop.columns = ['state','abbrev','Pop2019']"
   ]
  },
  {
   "cell_type": "code",
   "execution_count": 5,
   "metadata": {},
   "outputs": [],
   "source": [
    "class state_tracker:\n",
    "    '''\n",
    "    Returns covid stats, sorts by preference, and plots results\n",
    "    '''\n",
    "    def __init__(self, df, state_pop=state_pop, states_list=['MA', 'TX', 'OH', 'VT']):\n",
    "        '''\n",
    "        Selects appropriate columns and filters by state. Calculates percent deaths and percent hospitalized.\n",
    "        \n",
    "        % Deaths = Deaths/Positive\n",
    "        % Hospitalized = Hospitalized/Positive\n",
    "        '''\n",
    "        # Select appropriate columns\n",
    "        self.df = df[['state','positive','negative','hospitalizedCurrently','death','lastUpdateEt']]\n",
    "        # Rename columns\n",
    "        self.df.columns = ['State', 'Positive', 'Negative', 'Hospitalized', 'Deaths','Last Updated']\n",
    "        self.all_us = self.df.sum()['Positive']\n",
    "        # Replace NaN with 0\n",
    "        self.df = self.df.fillna(0)\n",
    "        \n",
    "        self.state_pop = state_pop\n",
    "        self.merged = self.df.merge(self.state_pop, left_on='State', right_on='abbrev')\n",
    "        self.merged = self.merged.drop(['state','abbrev'], 1)\n",
    "        \n",
    "        df_select = self.merged\n",
    "        # Percent death calculation\n",
    "        df_select['Total Tested'] = df_select['Positive'] + df_select['Negative']\n",
    "        df_select['% Pos of Tested'] = round((df_select['Positive']/df_select['Total Tested']) *100,2)\n",
    "        df_select['% Deaths'] = round((df_select['Deaths']/df_select['Positive']) *100,2)\n",
    "        df_select['% Hospitalized'] = round((df_select['Hospitalized']/df_select['Positive']) *100,2)\n",
    "        df_select['Pos per 1000'] = round((df_select['Positive']/df_select['Pop2019']) *1000,2)\n",
    "        df_select['% of US infected'] = round((df_select['Positive']/self.all_us) *100,2)\n",
    "        # Select the states\n",
    "        self.jnd = '|'.join(states_list)\n",
    "        df_select = self.merged[self.merged['State'].str.contains(self.jnd)]\n",
    "               \n",
    "        self.df_select = pd.DataFrame(df_select)\n",
    "    def all_df(self):\n",
    "        '''\n",
    "        Returns all states, select columns only.\n",
    "        '''\n",
    "        return self.merged\n",
    "    \n",
    "    def plotter(self, sort_by=\"% Hospitalized\"):\n",
    "        '''\n",
    "        Plots the formatted df by the sort_by variable.\n",
    "        '''\n",
    "        df = self.df_select.sort_values(sort_by, ascending=False)\n",
    "        sns.barplot(x = df.State, y = df[sort_by])\n",
    "        if sort_by==\"% Pos Positive\":\n",
    "            plt.title(f\"{sort_by} per State\")\n",
    "            plt.ylim(0,1)\n",
    "        else:\n",
    "            plt.title(f\"Number of {sort_by} results per State\")\n",
    "        \n",
    "        return plt.show()\n",
    "    \n",
    "    def table(self, sort_by=\"% Hospitalized\"):\n",
    "        '''\n",
    "        Returns the formatted df, but in a readable and prettified table\n",
    "        \n",
    "        Adds commas at 1000 values\n",
    "        Adds % to the percent tables\n",
    "        All values are in string\n",
    "        '''\n",
    "        df_select = self.df_select\n",
    "        df_select = df_select.sort_values(sort_by, ascending = False)\n",
    "\n",
    "        # Prettify output\n",
    "        # Format percentages\n",
    "        df_select['% Deaths'] = df_select['% Deaths'].apply(str) + \"%\"\n",
    "        df_select['% Hospitalized'] = df_select['% Hospitalized'].apply(str) + \"%\"\n",
    "        df_select['Pos per 1000'] = df_select['Pos per 1000'].apply(str) # + \"%\"\n",
    "        df_select['% of US infected'] = df_select['% of US infected'].apply(str) + \"%\"\n",
    "        df_select['% Pos of Tested'] = df_select['% Pos of Tested'].apply(str) + \"%\"\n",
    "\n",
    "        # Round floats to just integers, use commas to separate\n",
    "        columns = ['Positive', 'Negative', 'Hospitalized', 'Deaths', 'Pop2019']\n",
    "\n",
    "        for col in columns:\n",
    "            df_select[col] = pd.to_numeric(df_select[col]).apply(round)\n",
    "            df_select[col] = df_select[col].apply(lambda x: \"{:,}\".format(x))\n",
    "        df_select.columns = ['State', 'Positive-Cumulative', 'Negative-Cumulative', 'Hospitalized-Current', 'Deaths-Cumulative',\n",
    "                             'Last Updated', 'Pop2019', 'Total Tested', '% Pos of Tested',\n",
    "                             '% Deaths', '% Hospitalized', 'Pos per 1000', '% of US infected']\n",
    "        self.table = df_select\n",
    "        return(self.table)\n"
   ]
  },
  {
   "cell_type": "code",
   "execution_count": 6,
   "metadata": {},
   "outputs": [],
   "source": [
    "yan = ['MA', 'TX', 'OH', 'VT', 'NY', 'NJ', 'CA']\n",
    "chat = ['MA', 'TX', 'OH', 'VT']"
   ]
  },
  {
   "cell_type": "code",
   "execution_count": 7,
   "metadata": {},
   "outputs": [
    {
     "data": {
      "image/png": "[encoded data removed]",
      "text/plain": [
       "<Figure size 576x288 with 1 Axes>"
      ]
     },
     "metadata": {
      "needs_background": "light"
     },
     "output_type": "display_data"
    }
   ],
   "source": [
    "covid = state_tracker(df_state, states_list=yan)\n",
    "plt.figure(figsize=(8,4))\n",
    "covid.plotter(sort_by=\"Pos per 1000\")\n"
   ]
  },
  {
   "cell_type": "code",
   "execution_count": 8,
   "metadata": {},
   "outputs": [
    {
     "data": {
      "text/html": [
       "<div>\n",
       "<style scoped>\n",
       "    .dataframe tbody tr th:only-of-type {\n",
       "        vertical-align: middle;\n",
       "    }\n",
       "\n",
       "    .dataframe tbody tr th {\n",
       "        vertical-align: top;\n",
       "    }\n",
       "\n",
       "    .dataframe thead th {\n",
       "        text-align: right;\n",
       "    }\n",
       "</style>\n",
       "<table border=\"1\" class=\"dataframe\">\n",
       "  <thead>\n",
       "    <tr style=\"text-align: right;\">\n",
       "      <th></th>\n",
       "      <th>State</th>\n",
       "      <th>Positive-Cumulative</th>\n",
       "      <th>Negative-Cumulative</th>\n",
       "      <th>Hospitalized-Current</th>\n",
       "      <th>Deaths-Cumulative</th>\n",
       "      <th>Last Updated</th>\n",
       "      <th>Pop2019</th>\n",
       "      <th>Total Tested</th>\n",
       "      <th>% Pos of Tested</th>\n",
       "      <th>% Deaths</th>\n",
       "      <th>% Hospitalized</th>\n",
       "      <th>Pos per 1000</th>\n",
       "      <th>% of US infected</th>\n",
       "    </tr>\n",
       "  </thead>\n",
       "  <tbody>\n",
       "    <tr>\n",
       "      <th>33</th>\n",
       "      <td>NY</td>\n",
       "      <td>138,863</td>\n",
       "      <td>201,195</td>\n",
       "      <td>17,493</td>\n",
       "      <td>5,489</td>\n",
       "      <td>4/06 00:00</td>\n",
       "      <td>19,453,561</td>\n",
       "      <td>340058</td>\n",
       "      <td>40.84%</td>\n",
       "      <td>3.95%</td>\n",
       "      <td>12.6%</td>\n",
       "      <td>7.14</td>\n",
       "      <td>35.37%</td>\n",
       "    </tr>\n",
       "    <tr>\n",
       "      <th>4</th>\n",
       "      <td>CA</td>\n",
       "      <td>15,865</td>\n",
       "      <td>115,364</td>\n",
       "      <td>2,611</td>\n",
       "      <td>374</td>\n",
       "      <td>4/07 18:00</td>\n",
       "      <td>39,512,223</td>\n",
       "      <td>131229</td>\n",
       "      <td>12.09%</td>\n",
       "      <td>2.36%</td>\n",
       "      <td>16.46%</td>\n",
       "      <td>0.4</td>\n",
       "      <td>4.04%</td>\n",
       "    </tr>\n",
       "    <tr>\n",
       "      <th>30</th>\n",
       "      <td>NJ</td>\n",
       "      <td>44,416</td>\n",
       "      <td>50,558</td>\n",
       "      <td>7,017</td>\n",
       "      <td>1,232</td>\n",
       "      <td>4/07 13:00</td>\n",
       "      <td>8,882,190</td>\n",
       "      <td>94974</td>\n",
       "      <td>46.77%</td>\n",
       "      <td>2.77%</td>\n",
       "      <td>15.8%</td>\n",
       "      <td>5.0</td>\n",
       "      <td>11.31%</td>\n",
       "    </tr>\n",
       "    <tr>\n",
       "      <th>42</th>\n",
       "      <td>TX</td>\n",
       "      <td>8,262</td>\n",
       "      <td>80,387</td>\n",
       "      <td>1,252</td>\n",
       "      <td>154</td>\n",
       "      <td>4/06 21:00</td>\n",
       "      <td>28,995,881</td>\n",
       "      <td>88649</td>\n",
       "      <td>9.32%</td>\n",
       "      <td>1.86%</td>\n",
       "      <td>15.15%</td>\n",
       "      <td>0.28</td>\n",
       "      <td>2.1%</td>\n",
       "    </tr>\n",
       "    <tr>\n",
       "      <th>18</th>\n",
       "      <td>MA</td>\n",
       "      <td>15,202</td>\n",
       "      <td>66,142</td>\n",
       "      <td>0</td>\n",
       "      <td>356</td>\n",
       "      <td>4/07 12:30</td>\n",
       "      <td>6,892,503</td>\n",
       "      <td>81344</td>\n",
       "      <td>18.69%</td>\n",
       "      <td>2.34%</td>\n",
       "      <td>0.0%</td>\n",
       "      <td>2.21</td>\n",
       "      <td>3.87%</td>\n",
       "    </tr>\n",
       "    <tr>\n",
       "      <th>34</th>\n",
       "      <td>OH</td>\n",
       "      <td>4,782</td>\n",
       "      <td>46,056</td>\n",
       "      <td>0</td>\n",
       "      <td>167</td>\n",
       "      <td>4/07 14:00</td>\n",
       "      <td>11,689,100</td>\n",
       "      <td>50838</td>\n",
       "      <td>9.41%</td>\n",
       "      <td>3.49%</td>\n",
       "      <td>0.0%</td>\n",
       "      <td>0.41</td>\n",
       "      <td>1.22%</td>\n",
       "    </tr>\n",
       "    <tr>\n",
       "      <th>45</th>\n",
       "      <td>VT</td>\n",
       "      <td>575</td>\n",
       "      <td>6,554</td>\n",
       "      <td>29</td>\n",
       "      <td>23</td>\n",
       "      <td>4/06 23:59</td>\n",
       "      <td>623,989</td>\n",
       "      <td>7129</td>\n",
       "      <td>8.07%</td>\n",
       "      <td>4.0%</td>\n",
       "      <td>5.04%</td>\n",
       "      <td>0.92</td>\n",
       "      <td>0.15%</td>\n",
       "    </tr>\n",
       "  </tbody>\n",
       "</table>\n",
       "</div>"
      ],
      "text/plain": [
       "   State Positive-Cumulative Negative-Cumulative Hospitalized-Current  \\\n",
       "33    NY             138,863             201,195               17,493   \n",
       "4     CA              15,865             115,364                2,611   \n",
       "30    NJ              44,416              50,558                7,017   \n",
       "42    TX               8,262              80,387                1,252   \n",
       "18    MA              15,202              66,142                    0   \n",
       "34    OH               4,782              46,056                    0   \n",
       "45    VT                 575               6,554                   29   \n",
       "\n",
       "   Deaths-Cumulative Last Updated     Pop2019  Total Tested % Pos of Tested  \\\n",
       "33             5,489   4/06 00:00  19,453,561        340058          40.84%   \n",
       "4                374   4/07 18:00  39,512,223        131229          12.09%   \n",
       "30             1,232   4/07 13:00   8,882,190         94974          46.77%   \n",
       "42               154   4/06 21:00  28,995,881         88649           9.32%   \n",
       "18               356   4/07 12:30   6,892,503         81344          18.69%   \n",
       "34               167   4/07 14:00  11,689,100         50838           9.41%   \n",
       "45                23   4/06 23:59     623,989          7129           8.07%   \n",
       "\n",
       "   % Deaths % Hospitalized Pos per 1000 % of US infected  \n",
       "33    3.95%          12.6%         7.14           35.37%  \n",
       "4     2.36%         16.46%          0.4            4.04%  \n",
       "30    2.77%          15.8%          5.0           11.31%  \n",
       "42    1.86%         15.15%         0.28             2.1%  \n",
       "18    2.34%           0.0%         2.21            3.87%  \n",
       "34    3.49%           0.0%         0.41            1.22%  \n",
       "45     4.0%          5.04%         0.92            0.15%  "
      ]
     },
     "execution_count": 8,
     "metadata": {},
     "output_type": "execute_result"
    }
   ],
   "source": [
    "covid.table(sort_by = \"Total Tested\")"
   ]
  },
  {
   "cell_type": "code",
   "execution_count": 35,
   "metadata": {},
   "outputs": [
    {
     "data": {
      "text/plain": [
       "State               AKALARAZCACOCTDEFLGAHIIAIDILINKSKYLAMAMDMEMIMN...\n",
       "Positive                                                       390638\n",
       "Negative                                                      1650504\n",
       "Hospitalized                                                    38990\n",
       "Deaths                                                          12569\n",
       "Last Updated        4/07 15:154/07 00:004/07 14:414/07 00:004/07 1...\n",
       "Pop2019                                                     327533774\n",
       "Total Tested                                                  2041142\n",
       "% Pos of Tested                                                606.06\n",
       "% Deaths                                                       126.62\n",
       "% Hospitalized                                                  254.3\n",
       "Pos per 1000                                                    44.94\n",
       "% of US infected                                                99.49\n",
       "dtype: object"
      ]
     },
     "execution_count": 35,
     "metadata": {},
     "output_type": "execute_result"
    }
   ],
   "source": [
    "all_df.sum()"
   ]
  },
  {
   "cell_type": "code",
   "execution_count": 40,
   "metadata": {},
   "outputs": [
    {
     "name": "stdout",
     "output_type": "stream",
     "text": [
      "Totals in the USA to date:\n",
      "     Infected: 390,638\n",
      "     Hospitalized: 38,990\n",
      "     Deaths: 12,569\n",
      "     Total tests: 2,041,142\n",
      "     The US conducted 6 tests per 1000 people\n"
     ]
    }
   ],
   "source": [
    "all_df = covid.all_df()\n",
    "all_pos = all_df.sum()[\"Positive\"]\n",
    "all_dead = all_df.sum()[\"Deaths\"]\n",
    "all_hosp = all_df.sum()[\"Hospitalized\"]\n",
    "all_tests = all_df.sum()['Total Tested']\n",
    "frac_tests = (all_df.sum()['Total Tested']/all_df.sum()[\"Pop2019\"]) * 1000\n",
    "\n",
    "print(\"Totals in the USA to date:\")\n",
    "print(f'     Infected: {\"{:,}\".format(round(all_pos))}')\n",
    "print(f'     Hospitalized: {\"{:,}\".format(round(all_hosp))}') \n",
    "print(f'     Deaths: {\"{:,}\".format(round(all_dead))}')\n",
    "print(f'     Total tests: {\"{:,}\".format(round(all_tests))}')\n",
    "print(f'     The US conducted {\"{:,}\".format(round(frac_tests))} tests per 1000 people')"
   ]
  },
  {
   "cell_type": "markdown",
   "metadata": {},
   "source": [
    "# World"
   ]
  },
  {
   "cell_type": "code",
   "execution_count": 11,
   "metadata": {},
   "outputs": [],
   "source": [
    "import time"
   ]
  },
  {
   "cell_type": "code",
   "execution_count": 12,
   "metadata": {},
   "outputs": [
    {
     "name": "stdout",
     "output_type": "stream",
     "text": [
      "Success!\n"
     ]
    }
   ],
   "source": [
    "world_response = requests.get('https://www.trackcorona.live/api/countries/')\n",
    "\n",
    "if world_response.status_code == 200:\n",
    "    print('Success!')\n",
    "else:\n",
    "    print('An error has occurred')\n",
    "    exit()"
   ]
  },
  {
   "cell_type": "code",
   "execution_count": 13,
   "metadata": {},
   "outputs": [],
   "source": [
    "# Convert json to df\n",
    "df_world = pd.json_normalize(world_response.json()['data'])"
   ]
  },
  {
   "cell_type": "code",
   "execution_count": 14,
   "metadata": {},
   "outputs": [],
   "source": [
    "world_pop_df = pd.read_csv(\"countries of the world.csv\")"
   ]
  },
  {
   "cell_type": "code",
   "execution_count": 15,
   "metadata": {},
   "outputs": [],
   "source": [
    "world_pop = world_pop_df.loc[:,(\"Country\",\"Population\")]"
   ]
  },
  {
   "cell_type": "code",
   "execution_count": 16,
   "metadata": {},
   "outputs": [],
   "source": [
    "df_world = df_world.sort_values(\"location\")"
   ]
  },
  {
   "cell_type": "code",
   "execution_count": 17,
   "metadata": {},
   "outputs": [],
   "source": [
    "country_list = ['United States', 'Hungary', 'Jordan', 'Brazil', \n",
    "                'Germany','Mexico', 'China', 'Poland',\n",
    "                'Italy', 'Spain','France','United Kingdom', 'Russia', \"Iran\"\n",
    "               ]"
   ]
  },
  {
   "cell_type": "code",
   "execution_count": 18,
   "metadata": {},
   "outputs": [],
   "source": [
    "def world_tracker(df, country_list=country_list, sort_by=\"Confirmed\"):\n",
    "    df = df.loc[:, ['location', 'confirmed','dead','recovered','updated']]\n",
    "    df.columns = [\"Location\",\"Confirmed\", \"Dead\", \"Recovered\", \"Updated\"]\n",
    "    df[\"% of US\"]=round((df[\"Confirmed\"]/df.loc[df[\"Location\"]==\"United States\", \"Confirmed\"].values[0]) * 100,2)\n",
    "    df[\"% Share of World's Confirmed\"] = round(df['Confirmed']/sum(df['Confirmed'])*100,2)\n",
    "    df[\"% Share of World's Recovered\"] = round(df['Recovered']/sum(df['Recovered'])*100,2)\n",
    "    \n",
    "    jnd = '|'.join(country_list)\n",
    "    df = df[df['Location'].str.contains(jnd)]    \n",
    "    df = df.sort_values(sort_by, ascending=False)\n",
    "    \n",
    "    return df"
   ]
  },
  {
   "cell_type": "code",
   "execution_count": 19,
   "metadata": {},
   "outputs": [],
   "source": [
    "world = world_tracker(df_world, [\"\"])"
   ]
  },
  {
   "cell_type": "code",
   "execution_count": 34,
   "metadata": {},
   "outputs": [
    {
     "name": "stdout",
     "output_type": "stream",
     "text": [
      "Totals in the World to date:\n",
      "     World Confirmed: 1,423,217\n",
      "     US Confirmed: 392,285\n",
      "     27.56% of the world's confirmed are in the US.\n",
      "\n",
      "     World Deaths: 81,832\n",
      "     US Deaths: 12,627\n",
      "     15.43% of the world's deaths are in the US\n",
      "\n",
      "     World Recovered: 301,726\n",
      "     US Recovered: 21,368\n",
      "     7.08% of the world's recovered are in the US\n"
     ]
    }
   ],
   "source": [
    "world = world.set_index(\"Location\")\n",
    "world_infected = sum(world['Confirmed'])\n",
    "US_infected = world.loc[\"United States\"]['Confirmed']\n",
    "US_world_ratio = round((world.loc[\"United States\"]['Confirmed']/world_infected) * 100, 2)\n",
    "\n",
    "world_deaths = sum(world['Dead'])\n",
    "US_deaths = world.loc[\"United States\"]['Dead']\n",
    "US_world_deaths = round((world.loc[\"United States\"]['Dead']/world_deaths) * 100, 2)\n",
    "\n",
    "world_recovered = sum(world['Recovered'])\n",
    "US_recovered = world.loc[\"United States\"]['Recovered']\n",
    "US_world_recovered = round((world.loc[\"United States\"]['Recovered']/world_recovered) * 100, 2)\n",
    "\n",
    "print(\"Totals in the World to date:\")\n",
    "print(f\"     World Confirmed: {world_infected:,}\")\n",
    "print(f\"     US Confirmed: {US_infected:,}\")\n",
    "print(f\"     {US_world_ratio:,}% of the world's confirmed are in the US.\")\n",
    "print(\"\")\n",
    "print(f\"     World Deaths: {world_deaths:,}\")\n",
    "print(f\"     US Deaths: {US_deaths:,}\")\n",
    "print(f\"     {US_world_deaths:,}% of the world's deaths are in the US\")\n",
    "print(\"\")\n",
    "print(f\"     World Recovered: {world_recovered:,}\")\n",
    "print(f\"     US Recovered: {US_recovered:,}\")\n",
    "print(f\"     {US_world_recovered:,}% of the world's recovered are in the US\")"
   ]
  },
  {
   "cell_type": "code",
   "execution_count": 21,
   "metadata": {},
   "outputs": [
    {
     "data": {
      "text/html": [
       "<div>\n",
       "<style scoped>\n",
       "    .dataframe tbody tr th:only-of-type {\n",
       "        vertical-align: middle;\n",
       "    }\n",
       "\n",
       "    .dataframe tbody tr th {\n",
       "        vertical-align: top;\n",
       "    }\n",
       "\n",
       "    .dataframe thead th {\n",
       "        text-align: right;\n",
       "    }\n",
       "</style>\n",
       "<table border=\"1\" class=\"dataframe\">\n",
       "  <thead>\n",
       "    <tr style=\"text-align: right;\">\n",
       "      <th></th>\n",
       "      <th>Location</th>\n",
       "      <th>Confirmed</th>\n",
       "      <th>Dead</th>\n",
       "      <th>Recovered</th>\n",
       "      <th>Updated</th>\n",
       "      <th>% of US</th>\n",
       "      <th>% Share of World's Confirmed</th>\n",
       "      <th>% Share of World's Recovered</th>\n",
       "    </tr>\n",
       "  </thead>\n",
       "  <tbody>\n",
       "    <tr>\n",
       "      <th>18</th>\n",
       "      <td>United States</td>\n",
       "      <td>392285</td>\n",
       "      <td>12627</td>\n",
       "      <td>21368</td>\n",
       "      <td>2020-04-07 22:40:04.998033+00:00</td>\n",
       "      <td>100.00</td>\n",
       "      <td>27.56</td>\n",
       "      <td>7.08</td>\n",
       "    </tr>\n",
       "    <tr>\n",
       "      <th>19</th>\n",
       "      <td>Spain</td>\n",
       "      <td>141942</td>\n",
       "      <td>14045</td>\n",
       "      <td>43208</td>\n",
       "      <td>2020-04-07 22:40:05.119040+00:00</td>\n",
       "      <td>36.18</td>\n",
       "      <td>9.97</td>\n",
       "      <td>14.32</td>\n",
       "    </tr>\n",
       "    <tr>\n",
       "      <th>20</th>\n",
       "      <td>Italy</td>\n",
       "      <td>135586</td>\n",
       "      <td>17127</td>\n",
       "      <td>24392</td>\n",
       "      <td>2020-04-07 22:40:05.194616+00:00</td>\n",
       "      <td>34.56</td>\n",
       "      <td>9.53</td>\n",
       "      <td>8.08</td>\n",
       "    </tr>\n",
       "    <tr>\n",
       "      <th>124</th>\n",
       "      <td>France</td>\n",
       "      <td>109069</td>\n",
       "      <td>10328</td>\n",
       "      <td>19337</td>\n",
       "      <td>2020-04-07 22:40:05.366623+00:00</td>\n",
       "      <td>27.80</td>\n",
       "      <td>7.66</td>\n",
       "      <td>6.41</td>\n",
       "    </tr>\n",
       "    <tr>\n",
       "      <th>123</th>\n",
       "      <td>Germany</td>\n",
       "      <td>107663</td>\n",
       "      <td>2016</td>\n",
       "      <td>36081</td>\n",
       "      <td>2020-04-07 22:40:05.254738+00:00</td>\n",
       "      <td>27.45</td>\n",
       "      <td>7.56</td>\n",
       "      <td>11.96</td>\n",
       "    </tr>\n",
       "    <tr>\n",
       "      <th>137</th>\n",
       "      <td>China</td>\n",
       "      <td>81740</td>\n",
       "      <td>3331</td>\n",
       "      <td>77167</td>\n",
       "      <td>2020-04-07 22:40:05.305643+00:00</td>\n",
       "      <td>20.84</td>\n",
       "      <td>5.74</td>\n",
       "      <td>25.58</td>\n",
       "    </tr>\n",
       "    <tr>\n",
       "      <th>21</th>\n",
       "      <td>Iran</td>\n",
       "      <td>62589</td>\n",
       "      <td>3872</td>\n",
       "      <td>27039</td>\n",
       "      <td>2020-04-07 22:40:05.413409+00:00</td>\n",
       "      <td>15.95</td>\n",
       "      <td>4.40</td>\n",
       "      <td>8.96</td>\n",
       "    </tr>\n",
       "    <tr>\n",
       "      <th>114</th>\n",
       "      <td>United Kingdom</td>\n",
       "      <td>55242</td>\n",
       "      <td>6159</td>\n",
       "      <td>135</td>\n",
       "      <td>2020-04-07 22:40:05.471304+00:00</td>\n",
       "      <td>14.08</td>\n",
       "      <td>3.88</td>\n",
       "      <td>0.04</td>\n",
       "    </tr>\n",
       "    <tr>\n",
       "      <th>116</th>\n",
       "      <td>Brazil</td>\n",
       "      <td>14018</td>\n",
       "      <td>686</td>\n",
       "      <td>127</td>\n",
       "      <td>2020-04-07 22:40:05.779405+00:00</td>\n",
       "      <td>3.57</td>\n",
       "      <td>0.98</td>\n",
       "      <td>0.04</td>\n",
       "    </tr>\n",
       "    <tr>\n",
       "      <th>43</th>\n",
       "      <td>Russia</td>\n",
       "      <td>7497</td>\n",
       "      <td>58</td>\n",
       "      <td>494</td>\n",
       "      <td>2020-04-07 22:40:06.103809+00:00</td>\n",
       "      <td>1.91</td>\n",
       "      <td>0.53</td>\n",
       "      <td>0.16</td>\n",
       "    </tr>\n",
       "    <tr>\n",
       "      <th>50</th>\n",
       "      <td>Poland</td>\n",
       "      <td>4848</td>\n",
       "      <td>129</td>\n",
       "      <td>191</td>\n",
       "      <td>2020-04-07 22:40:06.576955+00:00</td>\n",
       "      <td>1.24</td>\n",
       "      <td>0.34</td>\n",
       "      <td>0.06</td>\n",
       "    </tr>\n",
       "    <tr>\n",
       "      <th>180</th>\n",
       "      <td>Mexico</td>\n",
       "      <td>2439</td>\n",
       "      <td>125</td>\n",
       "      <td>633</td>\n",
       "      <td>2020-04-07 22:40:07.376321+00:00</td>\n",
       "      <td>0.62</td>\n",
       "      <td>0.17</td>\n",
       "      <td>0.21</td>\n",
       "    </tr>\n",
       "    <tr>\n",
       "      <th>58</th>\n",
       "      <td>Hungary</td>\n",
       "      <td>817</td>\n",
       "      <td>47</td>\n",
       "      <td>71</td>\n",
       "      <td>2020-04-07 22:40:08.890173+00:00</td>\n",
       "      <td>0.21</td>\n",
       "      <td>0.06</td>\n",
       "      <td>0.02</td>\n",
       "    </tr>\n",
       "    <tr>\n",
       "      <th>2</th>\n",
       "      <td>Jordan</td>\n",
       "      <td>353</td>\n",
       "      <td>6</td>\n",
       "      <td>138</td>\n",
       "      <td>2020-04-07 22:40:11.084022+00:00</td>\n",
       "      <td>0.09</td>\n",
       "      <td>0.02</td>\n",
       "      <td>0.05</td>\n",
       "    </tr>\n",
       "  </tbody>\n",
       "</table>\n",
       "</div>"
      ],
      "text/plain": [
       "           Location  Confirmed   Dead  Recovered  \\\n",
       "18    United States     392285  12627      21368   \n",
       "19            Spain     141942  14045      43208   \n",
       "20            Italy     135586  17127      24392   \n",
       "124          France     109069  10328      19337   \n",
       "123         Germany     107663   2016      36081   \n",
       "137           China      81740   3331      77167   \n",
       "21             Iran      62589   3872      27039   \n",
       "114  United Kingdom      55242   6159        135   \n",
       "116          Brazil      14018    686        127   \n",
       "43           Russia       7497     58        494   \n",
       "50           Poland       4848    129        191   \n",
       "180          Mexico       2439    125        633   \n",
       "58          Hungary        817     47         71   \n",
       "2            Jordan        353      6        138   \n",
       "\n",
       "                              Updated  % of US  % Share of World's Confirmed  \\\n",
       "18   2020-04-07 22:40:04.998033+00:00   100.00                         27.56   \n",
       "19   2020-04-07 22:40:05.119040+00:00    36.18                          9.97   \n",
       "20   2020-04-07 22:40:05.194616+00:00    34.56                          9.53   \n",
       "124  2020-04-07 22:40:05.366623+00:00    27.80                          7.66   \n",
       "123  2020-04-07 22:40:05.254738+00:00    27.45                          7.56   \n",
       "137  2020-04-07 22:40:05.305643+00:00    20.84                          5.74   \n",
       "21   2020-04-07 22:40:05.413409+00:00    15.95                          4.40   \n",
       "114  2020-04-07 22:40:05.471304+00:00    14.08                          3.88   \n",
       "116  2020-04-07 22:40:05.779405+00:00     3.57                          0.98   \n",
       "43   2020-04-07 22:40:06.103809+00:00     1.91                          0.53   \n",
       "50   2020-04-07 22:40:06.576955+00:00     1.24                          0.34   \n",
       "180  2020-04-07 22:40:07.376321+00:00     0.62                          0.17   \n",
       "58   2020-04-07 22:40:08.890173+00:00     0.21                          0.06   \n",
       "2    2020-04-07 22:40:11.084022+00:00     0.09                          0.02   \n",
       "\n",
       "     % Share of World's Recovered  \n",
       "18                           7.08  \n",
       "19                          14.32  \n",
       "20                           8.08  \n",
       "124                          6.41  \n",
       "123                         11.96  \n",
       "137                         25.58  \n",
       "21                           8.96  \n",
       "114                          0.04  \n",
       "116                          0.04  \n",
       "43                           0.16  \n",
       "50                           0.06  \n",
       "180                          0.21  \n",
       "58                           0.02  \n",
       "2                            0.05  "
      ]
     },
     "execution_count": 21,
     "metadata": {},
     "output_type": "execute_result"
    }
   ],
   "source": [
    "world_tracker(df_world)"
   ]
  },
  {
   "cell_type": "markdown",
   "metadata": {},
   "source": [
    "# Counties and Cities"
   ]
  },
  {
   "cell_type": "markdown",
   "metadata": {},
   "source": [
    "## Import from Sources"
   ]
  },
  {
   "cell_type": "code",
   "execution_count": 23,
   "metadata": {},
   "outputs": [
    {
     "name": "stdout",
     "output_type": "stream",
     "text": [
      "Success!\n"
     ]
    }
   ],
   "source": [
    "city_response = requests.get('https://www.trackcorona.live/api/cities/')\n",
    "\n",
    "if city_response.status_code == 200:\n",
    "    print('Success!')\n",
    "else:\n",
    "    print('An error has occurred')\n",
    "    exit()"
   ]
  },
  {
   "cell_type": "code",
   "execution_count": 24,
   "metadata": {},
   "outputs": [],
   "source": [
    "# Convert json to df\n",
    "df_citycounty = pd.json_normalize(city_response.json()['data'])"
   ]
  },
  {
   "cell_type": "markdown",
   "metadata": {},
   "source": [
    "## Town Tracker"
   ]
  },
  {
   "cell_type": "code",
   "execution_count": 25,
   "metadata": {},
   "outputs": [],
   "source": [
    "town_list = ['Corse','Heerlen']"
   ]
  },
  {
   "cell_type": "code",
   "execution_count": 26,
   "metadata": {},
   "outputs": [],
   "source": [
    "def town_tracker (df, town_list=town_list, sort_by=\"confirmed\"):\n",
    "    df_city = df[~df['location'].str.contains(\" County\")]\n",
    "    jnd = '|'.join(town_list)\n",
    "    df_find = df_city[df_city['location'].str.contains(jnd)]\n",
    "    df_find = df_find.sort_values(sort_by, ascending=False)\n",
    "    return df_find"
   ]
  },
  {
   "cell_type": "code",
   "execution_count": 27,
   "metadata": {},
   "outputs": [
    {
     "data": {
      "text/html": [
       "<div>\n",
       "<style scoped>\n",
       "    .dataframe tbody tr th:only-of-type {\n",
       "        vertical-align: middle;\n",
       "    }\n",
       "\n",
       "    .dataframe tbody tr th {\n",
       "        vertical-align: top;\n",
       "    }\n",
       "\n",
       "    .dataframe thead th {\n",
       "        text-align: right;\n",
       "    }\n",
       "</style>\n",
       "<table border=\"1\" class=\"dataframe\">\n",
       "  <thead>\n",
       "    <tr style=\"text-align: right;\">\n",
       "      <th></th>\n",
       "      <th>location</th>\n",
       "      <th>latitude</th>\n",
       "      <th>longitude</th>\n",
       "      <th>confirmed</th>\n",
       "      <th>dead</th>\n",
       "      <th>recovered</th>\n",
       "      <th>updated</th>\n",
       "    </tr>\n",
       "  </thead>\n",
       "  <tbody>\n",
       "    <tr>\n",
       "      <th>2451</th>\n",
       "      <td>Corse</td>\n",
       "      <td>42.039604</td>\n",
       "      <td>9.012893</td>\n",
       "      <td>250</td>\n",
       "      <td>32.0</td>\n",
       "      <td>113.0</td>\n",
       "      <td>2020-04-07 22:41:38.102947+00:00</td>\n",
       "    </tr>\n",
       "    <tr>\n",
       "      <th>7</th>\n",
       "      <td>Heerlen</td>\n",
       "      <td>50.888174</td>\n",
       "      <td>5.979499</td>\n",
       "      <td>84</td>\n",
       "      <td>NaN</td>\n",
       "      <td>NaN</td>\n",
       "      <td>2020-04-07 22:41:14.743111+00:00</td>\n",
       "    </tr>\n",
       "  </tbody>\n",
       "</table>\n",
       "</div>"
      ],
      "text/plain": [
       "     location   latitude  longitude  confirmed  dead  recovered  \\\n",
       "2451    Corse  42.039604   9.012893        250  32.0      113.0   \n",
       "7     Heerlen  50.888174   5.979499         84   NaN        NaN   \n",
       "\n",
       "                               updated  \n",
       "2451  2020-04-07 22:41:38.102947+00:00  \n",
       "7     2020-04-07 22:41:14.743111+00:00  "
      ]
     },
     "execution_count": 27,
     "metadata": {},
     "output_type": "execute_result"
    }
   ],
   "source": [
    "town_tracker(df_citycounty)"
   ]
  },
  {
   "cell_type": "markdown",
   "metadata": {},
   "source": [
    "## County Tracker"
   ]
  },
  {
   "cell_type": "code",
   "execution_count": 28,
   "metadata": {},
   "outputs": [],
   "source": [
    "county_list = ['Summit County, Ohio', \n",
    "                'Cuyahoga County, Ohio', \n",
    "                'Suffolk County, Massachusetts',\n",
    "                'Walker County, Texas',\n",
    "                'Brooklyn', 'Queens', 'Manhattan', 'Bronx', 'Staten'] "
   ]
  },
  {
   "cell_type": "code",
   "execution_count": 29,
   "metadata": {},
   "outputs": [],
   "source": [
    "county_pop = pd.read_excel(\"countypop.xlsx\", sheet_name=1)\n",
    "county_pop = county_pop.iloc[1:].reset_index(drop=True)\n",
    "county_pop['County'] = county_pop['County'].str[1:] # remove period from beginning of each county name"
   ]
  },
  {
   "cell_type": "code",
   "execution_count": 30,
   "metadata": {},
   "outputs": [],
   "source": [
    "def county_tracker(df, county_pop = county_pop, county_list=county_list, sort_by=\"confirmed\"):\n",
    "    df_county = df[df['location'].str.contains(\" County\")].reset_index(drop=True)\n",
    "    df_pop = df_county.merge(county_pop, left_on=\"location\", right_on=\"County\").drop(\"County\", axis=1)\n",
    "    df_pop['% confirmed'] = round((df_pop['confirmed']/df_pop['Population'])*100, 2)   \n",
    "    \n",
    "    df_pop = df_pop.sort_values(sort_by, ascending=False)\n",
    "\n",
    "    columns = ['confirmed','dead','Population']       \n",
    "    for col in columns:\n",
    "        df_pop[col] = pd.to_numeric(df_pop[col]).apply(round)\n",
    "        df_pop[col] = df_pop[col].apply(lambda x: \"{:,}\".format(x))\n",
    "\n",
    "    df_pop['% confirmed'] = df_pop['% confirmed'].apply(str) + \"%\"\n",
    "    \n",
    "    jnd = '|'.join(county_list)\n",
    "    df_find = df_pop[df_pop['location'].str.contains(jnd)]\n",
    "    return df_find\n"
   ]
  },
  {
   "cell_type": "code",
   "execution_count": 31,
   "metadata": {},
   "outputs": [
    {
     "data": {
      "text/html": [
       "<div>\n",
       "<style scoped>\n",
       "    .dataframe tbody tr th:only-of-type {\n",
       "        vertical-align: middle;\n",
       "    }\n",
       "\n",
       "    .dataframe tbody tr th {\n",
       "        vertical-align: top;\n",
       "    }\n",
       "\n",
       "    .dataframe thead th {\n",
       "        text-align: right;\n",
       "    }\n",
       "</style>\n",
       "<table border=\"1\" class=\"dataframe\">\n",
       "  <thead>\n",
       "    <tr style=\"text-align: right;\">\n",
       "      <th></th>\n",
       "      <th>location</th>\n",
       "      <th>latitude</th>\n",
       "      <th>longitude</th>\n",
       "      <th>confirmed</th>\n",
       "      <th>dead</th>\n",
       "      <th>recovered</th>\n",
       "      <th>updated</th>\n",
       "      <th>Population</th>\n",
       "      <th>% confirmed</th>\n",
       "    </tr>\n",
       "  </thead>\n",
       "  <tbody>\n",
       "    <tr>\n",
       "      <th>209</th>\n",
       "      <td>Queens County, New York</td>\n",
       "      <td>40.728224</td>\n",
       "      <td>-73.794852</td>\n",
       "      <td>23,133</td>\n",
       "      <td>948</td>\n",
       "      <td>NaN</td>\n",
       "      <td>2020-04-07 22:40:30.283745+00:00</td>\n",
       "      <td>2,253,858</td>\n",
       "      <td>1.03%</td>\n",
       "    </tr>\n",
       "    <tr>\n",
       "      <th>214</th>\n",
       "      <td>Bronx County, New York</td>\n",
       "      <td>40.837049</td>\n",
       "      <td>-73.865430</td>\n",
       "      <td>14,327</td>\n",
       "      <td>709</td>\n",
       "      <td>NaN</td>\n",
       "      <td>2020-04-07 22:40:30.283745+00:00</td>\n",
       "      <td>1,418,207</td>\n",
       "      <td>1.01%</td>\n",
       "    </tr>\n",
       "    <tr>\n",
       "      <th>2208</th>\n",
       "      <td>Suffolk County, Massachusetts</td>\n",
       "      <td>42.352287</td>\n",
       "      <td>-71.050423</td>\n",
       "      <td>2,929</td>\n",
       "      <td>33</td>\n",
       "      <td>NaN</td>\n",
       "      <td>2020-04-07 22:40:30.283745+00:00</td>\n",
       "      <td>803,907</td>\n",
       "      <td>0.36%</td>\n",
       "    </tr>\n",
       "    <tr>\n",
       "      <th>973</th>\n",
       "      <td>Cuyahoga County, Ohio</td>\n",
       "      <td>41.433923</td>\n",
       "      <td>-81.675820</td>\n",
       "      <td>871</td>\n",
       "      <td>15</td>\n",
       "      <td>NaN</td>\n",
       "      <td>2020-04-07 22:40:30.283745+00:00</td>\n",
       "      <td>1,235,072</td>\n",
       "      <td>0.07%</td>\n",
       "    </tr>\n",
       "    <tr>\n",
       "      <th>1260</th>\n",
       "      <td>Summit County, Ohio</td>\n",
       "      <td>41.091899</td>\n",
       "      <td>-81.559643</td>\n",
       "      <td>189</td>\n",
       "      <td>10</td>\n",
       "      <td>NaN</td>\n",
       "      <td>2020-04-07 22:40:30.283745+00:00</td>\n",
       "      <td>541,013</td>\n",
       "      <td>0.03%</td>\n",
       "    </tr>\n",
       "    <tr>\n",
       "      <th>2291</th>\n",
       "      <td>Walker County, Texas</td>\n",
       "      <td>30.681539</td>\n",
       "      <td>-95.645795</td>\n",
       "      <td>10</td>\n",
       "      <td>0</td>\n",
       "      <td>NaN</td>\n",
       "      <td>2020-04-07 22:40:30.283745+00:00</td>\n",
       "      <td>72,971</td>\n",
       "      <td>0.01%</td>\n",
       "    </tr>\n",
       "  </tbody>\n",
       "</table>\n",
       "</div>"
      ],
      "text/plain": [
       "                           location   latitude  longitude confirmed dead  \\\n",
       "209         Queens County, New York  40.728224 -73.794852    23,133  948   \n",
       "214          Bronx County, New York  40.837049 -73.865430    14,327  709   \n",
       "2208  Suffolk County, Massachusetts  42.352287 -71.050423     2,929   33   \n",
       "973           Cuyahoga County, Ohio  41.433923 -81.675820       871   15   \n",
       "1260            Summit County, Ohio  41.091899 -81.559643       189   10   \n",
       "2291           Walker County, Texas  30.681539 -95.645795        10    0   \n",
       "\n",
       "      recovered                           updated Population % confirmed  \n",
       "209         NaN  2020-04-07 22:40:30.283745+00:00  2,253,858       1.03%  \n",
       "214         NaN  2020-04-07 22:40:30.283745+00:00  1,418,207       1.01%  \n",
       "2208        NaN  2020-04-07 22:40:30.283745+00:00    803,907       0.36%  \n",
       "973         NaN  2020-04-07 22:40:30.283745+00:00  1,235,072       0.07%  \n",
       "1260        NaN  2020-04-07 22:40:30.283745+00:00    541,013       0.03%  \n",
       "2291        NaN  2020-04-07 22:40:30.283745+00:00     72,971       0.01%  "
      ]
     },
     "execution_count": 31,
     "metadata": {},
     "output_type": "execute_result"
    }
   ],
   "source": [
    "county_tracker(df_citycounty)"
   ]
  },
  {
   "cell_type": "code",
   "execution_count": null,
   "metadata": {},
   "outputs": [],
   "source": []
  }
 ],
 "metadata": {
  "kernelspec": {
   "display_name": "Python 3",
   "language": "python",
   "name": "python3"
  },
  "language_info": {
   "codemirror_mode": {
    "name": "ipython",
    "version": 3
   },
   "file_extension": ".py",
   "mimetype": "text/x-python",
   "name": "python",
   "nbconvert_exporter": "python",
   "pygments_lexer": "ipython3",
   "version": "3.7.3"
  }
 },
 "nbformat": 4,
 "nbformat_minor": 4
}
