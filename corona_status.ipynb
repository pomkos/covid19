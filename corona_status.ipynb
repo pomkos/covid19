{
 "cells": [
  {
   "cell_type": "markdown",
   "metadata": {},
   "source": [
    "* json how to: https://realpython.com/python-requests/\n",
    "* USA source: https://covidtracking.com/us-daily/\n",
    "* world source: https://www.trackcorona.live\n",
    "* state pop source: https://www.census.gov/data/datasets/time-series/demo/popest/2010s-state-total.html#par_textimage_1873399417\n",
    "* state abbreviation source: https://www.50states.com/abbreviations.htm\n",
    "* county population source: https://www.census.gov/data/datasets/time-series/demo/popest/2010s-counties-total.html"
   ]
  },
  {
   "cell_type": "markdown",
   "metadata": {},
   "source": [
    "https://www.colors.lol/"
   ]
  },
  {
   "cell_type": "markdown",
   "metadata": {},
   "source": [
    "# State"
   ]
  },
  {
   "cell_type": "code",
   "execution_count": 2,
   "metadata": {},
   "outputs": [],
   "source": [
    "import pandas as pd\n",
    "import numpy as np\n",
    "import matplotlib.pyplot as plt\n",
    "import seaborn as sns\n",
    "import requests"
   ]
  },
  {
   "cell_type": "code",
   "execution_count": 3,
   "metadata": {},
   "outputs": [
    {
     "name": "stdout",
     "output_type": "stream",
     "text": [
      "Success!\n"
     ]
    }
   ],
   "source": [
    "state_response = requests.get('https://covidtracking.com/api/states')\n",
    "\n",
    "if state_response.status_code == 200:\n",
    "    print('Success!')\n",
    "else:\n",
    "    print('An error has occurred')\n",
    "    exit()\n"
   ]
  },
  {
   "cell_type": "code",
   "execution_count": 4,
   "metadata": {},
   "outputs": [],
   "source": [
    "# Convert json to df\n",
    "df_state = pd.json_normalize(state_response.json())"
   ]
  },
  {
   "cell_type": "code",
   "execution_count": 5,
   "metadata": {},
   "outputs": [],
   "source": [
    "# Import states, abbreviations, state population\n",
    "abbrevs = pd.read_csv('abbrevs.csv')\n",
    "statepop = pd.read_csv('statepop.csv').iloc[5:].loc[:,('NAME','POPESTIMATE2019')].reset_index(drop = True)\n",
    "state_pop = abbrevs.merge(statepop, left_on='State', right_on='NAME').loc[:,('NAME','Abbreviation','POPESTIMATE2019')]\n",
    "state_pop.columns = ['state','abbrev','Pop2019']"
   ]
  },
  {
   "cell_type": "code",
   "execution_count": 6,
   "metadata": {},
   "outputs": [],
   "source": [
    "class state_tracker:\n",
    "    '''\n",
    "    Returns covid stats, sorts by preference, and plots results\n",
    "    '''\n",
    "    def __init__(self, df, state_pop=state_pop, states_list=['MA', 'TX', 'OH', 'VT']):\n",
    "        '''\n",
    "        Selects appropriate columns and filters by state. Calculates percent deaths and percent hospitalized.\n",
    "        \n",
    "        % Deaths = Deaths/Positive\n",
    "        % Hospitalized = Hospitalized/Positive\n",
    "        '''\n",
    "        # Select appropriate columns\n",
    "        self.df = df[['state','positive','negative','hospitalized','death','lastUpdateEt']]\n",
    "        # Rename columns\n",
    "        self.df.columns = ['State', 'Positive', 'Negative', 'Hospitalized', 'Deaths', 'Last Updated']\n",
    "        self.all_us = self.df.sum()['Positive']\n",
    "        # Replace NaN with 0\n",
    "        self.df = self.df.fillna(0)\n",
    "        \n",
    "        self.state_pop = state_pop\n",
    "        self.merged = self.df.merge(self.state_pop, left_on='State', right_on='abbrev')\n",
    "        self.merged = self.merged.drop(['state','abbrev'], 1)\n",
    "        \n",
    "        df_select = self.merged\n",
    "        # Percent death calculation\n",
    "        df_select['Total Tested'] = df_select['Positive'] + df_select['Negative']\n",
    "        df_select['% Pos of Tested'] = round((df_select['Positive']/df_select['Total Tested']) *100,2)\n",
    "        df_select['% Deaths'] = round((df_select['Deaths']/df_select['Positive']) *100,2)\n",
    "        df_select['% Hospitalized'] = round((df_select['Hospitalized']/df_select['Positive']) *100,2)\n",
    "        df_select['% Pop Positive'] = round((df_select['Positive']/df_select['Pop2019']) *100,2)\n",
    "        df_select['% of US infected'] = round((df_select['Positive']/self.all_us) *100,2)\n",
    "        # Select the states\n",
    "        self.jnd = '|'.join(states_list)\n",
    "        df_select = self.merged[self.merged['State'].str.contains(self.jnd)]\n",
    "               \n",
    "        self.df_select = pd.DataFrame(df_select)\n",
    "    def all_df(self):\n",
    "        '''\n",
    "        Returns all states, select columns only.\n",
    "        '''\n",
    "        return self.merged\n",
    "    \n",
    "    def plotter(self, sort_by=\"% Hospitalized\"):\n",
    "        '''\n",
    "        Plots the formatted df by the sort_by variable.\n",
    "        '''\n",
    "        df = self.df_select.sort_values(sort_by, ascending=False)\n",
    "        sns.barplot(x = df.State, y = df[sort_by])\n",
    "        if sort_by==\"% Pop Positive\":\n",
    "            plt.title(f\"{sort_by} per State\")\n",
    "            plt.ylim(0,1)\n",
    "        else:\n",
    "            plt.title(f\"Number of {sort_by} results per State\")\n",
    "        \n",
    "        return plt.show()\n",
    "    \n",
    "    def table(self, sort_by=\"% Hospitalized\"):\n",
    "        '''\n",
    "        Returns the formatted df, but in a readable and prettified table\n",
    "        \n",
    "        Adds commas at 1000 values\n",
    "        Adds % to the percent tables\n",
    "        All values are in string\n",
    "        '''\n",
    "        df_select = self.df_select\n",
    "        df_select = df_select.sort_values(sort_by, ascending = False)\n",
    "\n",
    "        # Prettify output\n",
    "        # Format percentages\n",
    "        df_select['% Deaths'] = df_select['% Deaths'].apply(str) + \"%\"\n",
    "        df_select['% Hospitalized'] = df_select['% Hospitalized'].apply(str) + \"%\"\n",
    "        df_select['% Pop Positive'] = df_select['% Pop Positive'].apply(str) + \"%\"\n",
    "        df_select['% of US infected'] = df_select['% of US infected'].apply(str) + \"%\"\n",
    "        df_select['% Pos of Tested'] = df_select['% Pos of Tested'].apply(str) + \"%\"\n",
    "\n",
    "        # Round floats to just integers, use commas to separate\n",
    "        columns = ['Positive', 'Negative', 'Hospitalized', 'Deaths', 'Pop2019']\n",
    "\n",
    "        for col in columns:\n",
    "            df_select[col] = pd.to_numeric(df_select[col]).apply(round)\n",
    "            df_select[col] = df_select[col].apply(lambda x: \"{:,}\".format(x))\n",
    "        self.table = df_select\n",
    "        return(self.table)\n"
   ]
  },
  {
   "cell_type": "code",
   "execution_count": 7,
   "metadata": {},
   "outputs": [],
   "source": [
    "yan = ['MA', 'TX', 'OH', 'VT', 'NY', 'NJ', 'CA']\n",
    "chat = ['MA', 'TX', 'OH', 'VT']"
   ]
  },
  {
   "cell_type": "code",
   "execution_count": 8,
   "metadata": {},
   "outputs": [
    {
     "data": {
      "image/png": "[encoded data removed]",
      "text/plain": [
       "<Figure size 432x288 with 1 Axes>"
      ]
     },
     "metadata": {
      "needs_background": "light"
     },
     "output_type": "display_data"
    }
   ],
   "source": [
    "covid = state_tracker(df_state, states_list=yan)\n",
    "covid.plotter(sort_by=\"% Pop Positive\")\n"
   ]
  },
  {
   "cell_type": "code",
   "execution_count": 9,
   "metadata": {},
   "outputs": [
    {
     "data": {
      "text/html": [
       "<div>\n",
       "<style scoped>\n",
       "    .dataframe tbody tr th:only-of-type {\n",
       "        vertical-align: middle;\n",
       "    }\n",
       "\n",
       "    .dataframe tbody tr th {\n",
       "        vertical-align: top;\n",
       "    }\n",
       "\n",
       "    .dataframe thead th {\n",
       "        text-align: right;\n",
       "    }\n",
       "</style>\n",
       "<table border=\"1\" class=\"dataframe\">\n",
       "  <thead>\n",
       "    <tr style=\"text-align: right;\">\n",
       "      <th></th>\n",
       "      <th>State</th>\n",
       "      <th>Positive</th>\n",
       "      <th>Negative</th>\n",
       "      <th>Hospitalized</th>\n",
       "      <th>Deaths</th>\n",
       "      <th>Last Updated</th>\n",
       "      <th>Pop2019</th>\n",
       "      <th>Total Tested</th>\n",
       "      <th>% Pos of Tested</th>\n",
       "      <th>% Deaths</th>\n",
       "      <th>% Hospitalized</th>\n",
       "      <th>% Pop Positive</th>\n",
       "      <th>% of US infected</th>\n",
       "    </tr>\n",
       "  </thead>\n",
       "  <tbody>\n",
       "    <tr>\n",
       "      <th>33</th>\n",
       "      <td>NY</td>\n",
       "      <td>92,381</td>\n",
       "      <td>146,584</td>\n",
       "      <td>20,817</td>\n",
       "      <td>2,373</td>\n",
       "      <td>4/02 11:45</td>\n",
       "      <td>19,453,561</td>\n",
       "      <td>238965</td>\n",
       "      <td>38.66%</td>\n",
       "      <td>2.57%</td>\n",
       "      <td>22.53%</td>\n",
       "      <td>0.47%</td>\n",
       "      <td>38.14%</td>\n",
       "    </tr>\n",
       "    <tr>\n",
       "      <th>30</th>\n",
       "      <td>NJ</td>\n",
       "      <td>25,590</td>\n",
       "      <td>33,520</td>\n",
       "      <td>0</td>\n",
       "      <td>537</td>\n",
       "      <td>4/02 13:00</td>\n",
       "      <td>8,882,190</td>\n",
       "      <td>59110</td>\n",
       "      <td>43.29%</td>\n",
       "      <td>2.1%</td>\n",
       "      <td>0.0%</td>\n",
       "      <td>0.29%</td>\n",
       "      <td>10.57%</td>\n",
       "    </tr>\n",
       "    <tr>\n",
       "      <th>18</th>\n",
       "      <td>MA</td>\n",
       "      <td>8,966</td>\n",
       "      <td>47,642</td>\n",
       "      <td>813</td>\n",
       "      <td>154</td>\n",
       "      <td>4/02 16:00</td>\n",
       "      <td>6,892,503</td>\n",
       "      <td>56608</td>\n",
       "      <td>15.84%</td>\n",
       "      <td>1.72%</td>\n",
       "      <td>9.07%</td>\n",
       "      <td>0.13%</td>\n",
       "      <td>3.7%</td>\n",
       "    </tr>\n",
       "    <tr>\n",
       "      <th>42</th>\n",
       "      <td>TX</td>\n",
       "      <td>4,669</td>\n",
       "      <td>46,010</td>\n",
       "      <td>196</td>\n",
       "      <td>70</td>\n",
       "      <td>4/02 13:00</td>\n",
       "      <td>28,995,881</td>\n",
       "      <td>50679</td>\n",
       "      <td>9.21%</td>\n",
       "      <td>1.5%</td>\n",
       "      <td>4.2%</td>\n",
       "      <td>0.02%</td>\n",
       "      <td>1.93%</td>\n",
       "    </tr>\n",
       "    <tr>\n",
       "      <th>34</th>\n",
       "      <td>OH</td>\n",
       "      <td>2,902</td>\n",
       "      <td>32,016</td>\n",
       "      <td>802</td>\n",
       "      <td>81</td>\n",
       "      <td>4/02 14:00</td>\n",
       "      <td>11,689,100</td>\n",
       "      <td>34918</td>\n",
       "      <td>8.31%</td>\n",
       "      <td>2.79%</td>\n",
       "      <td>27.64%</td>\n",
       "      <td>0.02%</td>\n",
       "      <td>1.2%</td>\n",
       "    </tr>\n",
       "    <tr>\n",
       "      <th>4</th>\n",
       "      <td>CA</td>\n",
       "      <td>9,191</td>\n",
       "      <td>23,809</td>\n",
       "      <td>0</td>\n",
       "      <td>203</td>\n",
       "      <td>4/01 00:00</td>\n",
       "      <td>39,512,223</td>\n",
       "      <td>33000</td>\n",
       "      <td>27.85%</td>\n",
       "      <td>2.21%</td>\n",
       "      <td>0.0%</td>\n",
       "      <td>0.02%</td>\n",
       "      <td>3.79%</td>\n",
       "    </tr>\n",
       "    <tr>\n",
       "      <th>45</th>\n",
       "      <td>VT</td>\n",
       "      <td>338</td>\n",
       "      <td>4,373</td>\n",
       "      <td>45</td>\n",
       "      <td>17</td>\n",
       "      <td>4/02 13:00</td>\n",
       "      <td>623,989</td>\n",
       "      <td>4711</td>\n",
       "      <td>7.17%</td>\n",
       "      <td>5.03%</td>\n",
       "      <td>13.31%</td>\n",
       "      <td>0.05%</td>\n",
       "      <td>0.14%</td>\n",
       "    </tr>\n",
       "  </tbody>\n",
       "</table>\n",
       "</div>"
      ],
      "text/plain": [
       "   State Positive Negative Hospitalized Deaths Last Updated     Pop2019  \\\n",
       "33    NY   92,381  146,584       20,817  2,373   4/02 11:45  19,453,561   \n",
       "30    NJ   25,590   33,520            0    537   4/02 13:00   8,882,190   \n",
       "18    MA    8,966   47,642          813    154   4/02 16:00   6,892,503   \n",
       "42    TX    4,669   46,010          196     70   4/02 13:00  28,995,881   \n",
       "34    OH    2,902   32,016          802     81   4/02 14:00  11,689,100   \n",
       "4     CA    9,191   23,809            0    203   4/01 00:00  39,512,223   \n",
       "45    VT      338    4,373           45     17   4/02 13:00     623,989   \n",
       "\n",
       "    Total Tested % Pos of Tested % Deaths % Hospitalized % Pop Positive  \\\n",
       "33        238965          38.66%    2.57%         22.53%          0.47%   \n",
       "30         59110          43.29%     2.1%           0.0%          0.29%   \n",
       "18         56608          15.84%    1.72%          9.07%          0.13%   \n",
       "42         50679           9.21%     1.5%           4.2%          0.02%   \n",
       "34         34918           8.31%    2.79%         27.64%          0.02%   \n",
       "4          33000          27.85%    2.21%           0.0%          0.02%   \n",
       "45          4711           7.17%    5.03%         13.31%          0.05%   \n",
       "\n",
       "   % of US infected  \n",
       "33           38.14%  \n",
       "30           10.57%  \n",
       "18             3.7%  \n",
       "42            1.93%  \n",
       "34             1.2%  \n",
       "4             3.79%  \n",
       "45            0.14%  "
      ]
     },
     "execution_count": 9,
     "metadata": {},
     "output_type": "execute_result"
    }
   ],
   "source": [
    "covid.table(sort_by = \"Total Tested\")"
   ]
  },
  {
   "cell_type": "code",
   "execution_count": 10,
   "metadata": {
    "jupyter": {
     "source_hidden": true
    }
   },
   "outputs": [
    {
     "name": "stdout",
     "output_type": "stream",
     "text": [
      "Totals in the USA to date:\n",
      "     Infected: 240,946\n",
      "     Hospitalized: 33,028\n",
      "     Deaths: 5,839\n"
     ]
    }
   ],
   "source": [
    "all_df = covid.all_df()\n",
    "all_pos = all_df.sum()[\"Positive\"]\n",
    "all_dead = all_df.sum()[\"Deaths\"]\n",
    "all_hosp = all_df.sum()[\"Hospitalized\"]\n",
    "\n",
    "print(\"Totals in the USA to date:\")\n",
    "print(f'     Infected: {\"{:,}\".format(round(all_pos))}')\n",
    "print(f'     Hospitalized: {\"{:,}\".format(round(all_hosp))}') \n",
    "print(f'     Deaths: {\"{:,}\".format(round(all_dead))}')"
   ]
  },
  {
   "cell_type": "markdown",
   "metadata": {},
   "source": [
    "# World"
   ]
  },
  {
   "cell_type": "code",
   "execution_count": 11,
   "metadata": {},
   "outputs": [],
   "source": [
    "import time"
   ]
  },
  {
   "cell_type": "code",
   "execution_count": 12,
   "metadata": {},
   "outputs": [
    {
     "name": "stdout",
     "output_type": "stream",
     "text": [
      "Success!\n"
     ]
    }
   ],
   "source": [
    "world_response = requests.get('https://www.trackcorona.live/api/countries/')\n",
    "\n",
    "if world_response.status_code == 200:\n",
    "    print('Success!')\n",
    "else:\n",
    "    print('An error has occurred')\n",
    "    exit()"
   ]
  },
  {
   "cell_type": "code",
   "execution_count": 13,
   "metadata": {},
   "outputs": [],
   "source": [
    "# Convert json to df\n",
    "df_world = pd.json_normalize(world_response.json()['data'])"
   ]
  },
  {
   "cell_type": "code",
   "execution_count": 14,
   "metadata": {},
   "outputs": [],
   "source": [
    "world_pop_df = pd.read_csv(\"countries of the world.csv\")"
   ]
  },
  {
   "cell_type": "code",
   "execution_count": 15,
   "metadata": {},
   "outputs": [],
   "source": [
    "world_pop = world_pop_df.loc[:,(\"Country\",\"Population\")]"
   ]
  },
  {
   "cell_type": "code",
   "execution_count": 16,
   "metadata": {},
   "outputs": [],
   "source": [
    "df_world = df_world.sort_values(\"location\")"
   ]
  },
  {
   "cell_type": "code",
   "execution_count": 18,
   "metadata": {},
   "outputs": [],
   "source": [
    "country_list = ['United States', 'Hungary', 'Jordan', 'Brazil', \n",
    "                'Cambodia', 'Germany','Mexico', 'China', 'Poland',\n",
    "                'Italy', 'Spain','France','United Kingdom', 'Russia'\n",
    "               ]"
   ]
  },
  {
   "cell_type": "code",
   "execution_count": 20,
   "metadata": {},
   "outputs": [],
   "source": [
    "def world_tracker(df, country_list=country_list, sort_by=\"Confirmed\"):\n",
    "    df = df.loc[:, ['location', 'confirmed','dead','recovered','updated']]\n",
    "    df.columns = [\"Location\",\"Confirmed\", \"Dead\", \"Recovered\", \"Updated\"]\n",
    "    df[\"% of US\"]=round((df[\"Confirmed\"]/df.loc[df[\"Location\"]==\"United States\", \"Confirmed\"].values[0]) * 100,2)\n",
    "    df[\"% Share of World's Confirmed\"] = round(df['Confirmed']/sum(df['Confirmed'])*100,2)\n",
    "    df[\"% Share of World's Recovered\"] = round(df['Recovered']/sum(df['Recovered'])*100,2)\n",
    "    \n",
    "    jnd = '|'.join(country_list)\n",
    "    df = df[df['Location'].str.contains(jnd)]    \n",
    "    df = df.sort_values(sort_by, ascending=False)\n",
    "    \n",
    "    return df"
   ]
  },
  {
   "cell_type": "code",
   "execution_count": 21,
   "metadata": {},
   "outputs": [],
   "source": [
    "world = world_tracker(df_world, [\"\"])"
   ]
  },
  {
   "cell_type": "code",
   "execution_count": 22,
   "metadata": {},
   "outputs": [
    {
     "name": "stdout",
     "output_type": "stream",
     "text": [
      "Totals in the World to date:\n",
      "     World Confirmed: 1,043,801\n",
      "     US Confirmed: 245,974\n",
      "     23.57% of the world's confirmed are in the US.\n",
      "\n",
      "     World Deaths: 54,430\n",
      "     US Deaths: 6,126\n",
      "     11.25% of the world's deaths are in the US\n",
      "\n",
      "     World Recovered: 221,923\n",
      "     US Recovered: 10,411\n",
      "     4.69% of the world's recovered are in the US\n"
     ]
    }
   ],
   "source": [
    "world_infected = sum(world['Confirmed'])\n",
    "US_infected = world.loc[1]['Confirmed']\n",
    "US_world_ratio = round((world.loc[1]['Confirmed']/world_infected) * 100, 2)\n",
    "\n",
    "world_deaths = sum(world['Dead'])\n",
    "US_deaths = world.loc[1]['Dead']\n",
    "US_world_deaths = round((world.loc[1]['Dead']/world_deaths) * 100, 2)\n",
    "\n",
    "world_recovered = sum(world['Recovered'])\n",
    "US_recovered = world.loc[1]['Recovered']\n",
    "US_world_recovered = round((world.loc[1]['Recovered']/world_recovered) * 100, 2)\n",
    "\n",
    "print(\"Totals in the World to date:\")\n",
    "print(f\"     World Confirmed: {world_infected:,}\")\n",
    "print(f\"     US Confirmed: {US_infected:,}\")\n",
    "print(f\"     {US_world_ratio:,}% of the world's confirmed are in the US.\")\n",
    "print(\"\")\n",
    "print(f\"     World Deaths: {world_deaths:,}\")\n",
    "print(f\"     US Deaths: {US_deaths:,}\")\n",
    "print(f\"     {US_world_deaths:,}% of the world's deaths are in the US\")\n",
    "print(\"\")\n",
    "print(f\"     World Recovered: {world_recovered:,}\")\n",
    "print(f\"     US Recovered: {US_recovered:,}\")\n",
    "print(f\"     {US_world_recovered:,}% of the world's recovered are in the US\")"
   ]
  },
  {
   "cell_type": "code",
   "execution_count": 28,
   "metadata": {},
   "outputs": [
    {
     "data": {
      "text/html": [
       "<div>\n",
       "<style scoped>\n",
       "    .dataframe tbody tr th:only-of-type {\n",
       "        vertical-align: middle;\n",
       "    }\n",
       "\n",
       "    .dataframe tbody tr th {\n",
       "        vertical-align: top;\n",
       "    }\n",
       "\n",
       "    .dataframe thead th {\n",
       "        text-align: right;\n",
       "    }\n",
       "</style>\n",
       "<table border=\"1\" class=\"dataframe\">\n",
       "  <thead>\n",
       "    <tr style=\"text-align: right;\">\n",
       "      <th></th>\n",
       "      <th>Location</th>\n",
       "      <th>Confirmed</th>\n",
       "      <th>Dead</th>\n",
       "      <th>Recovered</th>\n",
       "      <th>Updated</th>\n",
       "      <th>% of US</th>\n",
       "      <th>% Share of World's Confirmed</th>\n",
       "      <th>% Share of World's Recovered</th>\n",
       "    </tr>\n",
       "  </thead>\n",
       "  <tbody>\n",
       "    <tr>\n",
       "      <th>18</th>\n",
       "      <td>United States</td>\n",
       "      <td>245175</td>\n",
       "      <td>6059</td>\n",
       "      <td>10403</td>\n",
       "      <td>2020-04-03 13:40:05.071644+00:00</td>\n",
       "      <td>100.00</td>\n",
       "      <td>23.57</td>\n",
       "      <td>4.74</td>\n",
       "    </tr>\n",
       "    <tr>\n",
       "      <th>19</th>\n",
       "      <td>Spain</td>\n",
       "      <td>117710</td>\n",
       "      <td>10935</td>\n",
       "      <td>30513</td>\n",
       "      <td>2020-04-03 13:40:05.178794+00:00</td>\n",
       "      <td>48.01</td>\n",
       "      <td>11.32</td>\n",
       "      <td>13.89</td>\n",
       "    </tr>\n",
       "    <tr>\n",
       "      <th>20</th>\n",
       "      <td>Italy</td>\n",
       "      <td>115242</td>\n",
       "      <td>13915</td>\n",
       "      <td>18278</td>\n",
       "      <td>2020-04-03 13:40:05.271672+00:00</td>\n",
       "      <td>47.00</td>\n",
       "      <td>11.08</td>\n",
       "      <td>8.32</td>\n",
       "    </tr>\n",
       "    <tr>\n",
       "      <th>117</th>\n",
       "      <td>Germany</td>\n",
       "      <td>86667</td>\n",
       "      <td>1129</td>\n",
       "      <td>22440</td>\n",
       "      <td>2020-04-03 13:40:23.697457+00:00</td>\n",
       "      <td>35.35</td>\n",
       "      <td>8.33</td>\n",
       "      <td>10.21</td>\n",
       "    </tr>\n",
       "    <tr>\n",
       "      <th>134</th>\n",
       "      <td>China</td>\n",
       "      <td>81620</td>\n",
       "      <td>3322</td>\n",
       "      <td>76571</td>\n",
       "      <td>2020-04-03 13:40:05.385507+00:00</td>\n",
       "      <td>33.29</td>\n",
       "      <td>7.85</td>\n",
       "      <td>34.85</td>\n",
       "    </tr>\n",
       "    <tr>\n",
       "      <th>122</th>\n",
       "      <td>France</td>\n",
       "      <td>59105</td>\n",
       "      <td>4503</td>\n",
       "      <td>12427</td>\n",
       "      <td>2020-04-03 13:42:22.915852+00:00</td>\n",
       "      <td>24.11</td>\n",
       "      <td>5.68</td>\n",
       "      <td>5.66</td>\n",
       "    </tr>\n",
       "    <tr>\n",
       "      <th>120</th>\n",
       "      <td>Brazil</td>\n",
       "      <td>8076</td>\n",
       "      <td>329</td>\n",
       "      <td>127</td>\n",
       "      <td>2020-04-03 13:40:25.005802+00:00</td>\n",
       "      <td>3.29</td>\n",
       "      <td>0.78</td>\n",
       "      <td>0.06</td>\n",
       "    </tr>\n",
       "    <tr>\n",
       "      <th>42</th>\n",
       "      <td>Russia</td>\n",
       "      <td>4149</td>\n",
       "      <td>34</td>\n",
       "      <td>281</td>\n",
       "      <td>2020-04-03 13:40:09.176387+00:00</td>\n",
       "      <td>1.69</td>\n",
       "      <td>0.40</td>\n",
       "      <td>0.13</td>\n",
       "    </tr>\n",
       "    <tr>\n",
       "      <th>46</th>\n",
       "      <td>Poland</td>\n",
       "      <td>3149</td>\n",
       "      <td>59</td>\n",
       "      <td>56</td>\n",
       "      <td>2020-04-03 13:40:09.857257+00:00</td>\n",
       "      <td>1.28</td>\n",
       "      <td>0.30</td>\n",
       "      <td>0.03</td>\n",
       "    </tr>\n",
       "    <tr>\n",
       "      <th>177</th>\n",
       "      <td>Mexico</td>\n",
       "      <td>1510</td>\n",
       "      <td>50</td>\n",
       "      <td>633</td>\n",
       "      <td>2020-04-03 13:40:26.485266+00:00</td>\n",
       "      <td>0.62</td>\n",
       "      <td>0.15</td>\n",
       "      <td>0.29</td>\n",
       "    </tr>\n",
       "    <tr>\n",
       "      <th>50</th>\n",
       "      <td>Hungary</td>\n",
       "      <td>623</td>\n",
       "      <td>26</td>\n",
       "      <td>43</td>\n",
       "      <td>2020-04-03 13:40:12.488638+00:00</td>\n",
       "      <td>0.25</td>\n",
       "      <td>0.06</td>\n",
       "      <td>0.02</td>\n",
       "    </tr>\n",
       "    <tr>\n",
       "      <th>10</th>\n",
       "      <td>Jordan</td>\n",
       "      <td>299</td>\n",
       "      <td>5</td>\n",
       "      <td>45</td>\n",
       "      <td>2020-04-03 13:40:14.067300+00:00</td>\n",
       "      <td>0.12</td>\n",
       "      <td>0.03</td>\n",
       "      <td>0.02</td>\n",
       "    </tr>\n",
       "    <tr>\n",
       "      <th>29</th>\n",
       "      <td>Cambodia</td>\n",
       "      <td>114</td>\n",
       "      <td>0</td>\n",
       "      <td>35</td>\n",
       "      <td>2020-04-03 13:40:16.775689+00:00</td>\n",
       "      <td>0.05</td>\n",
       "      <td>0.01</td>\n",
       "      <td>0.02</td>\n",
       "    </tr>\n",
       "  </tbody>\n",
       "</table>\n",
       "</div>"
      ],
      "text/plain": [
       "          Location  Confirmed   Dead  Recovered  \\\n",
       "18   United States     245175   6059      10403   \n",
       "19           Spain     117710  10935      30513   \n",
       "20           Italy     115242  13915      18278   \n",
       "117        Germany      86667   1129      22440   \n",
       "134          China      81620   3322      76571   \n",
       "122         France      59105   4503      12427   \n",
       "120         Brazil       8076    329        127   \n",
       "42          Russia       4149     34        281   \n",
       "46          Poland       3149     59         56   \n",
       "177         Mexico       1510     50        633   \n",
       "50         Hungary        623     26         43   \n",
       "10          Jordan        299      5         45   \n",
       "29        Cambodia        114      0         35   \n",
       "\n",
       "                              Updated  % of US  % Share of World's Confirmed  \\\n",
       "18   2020-04-03 13:40:05.071644+00:00   100.00                         23.57   \n",
       "19   2020-04-03 13:40:05.178794+00:00    48.01                         11.32   \n",
       "20   2020-04-03 13:40:05.271672+00:00    47.00                         11.08   \n",
       "117  2020-04-03 13:40:23.697457+00:00    35.35                          8.33   \n",
       "134  2020-04-03 13:40:05.385507+00:00    33.29                          7.85   \n",
       "122  2020-04-03 13:42:22.915852+00:00    24.11                          5.68   \n",
       "120  2020-04-03 13:40:25.005802+00:00     3.29                          0.78   \n",
       "42   2020-04-03 13:40:09.176387+00:00     1.69                          0.40   \n",
       "46   2020-04-03 13:40:09.857257+00:00     1.28                          0.30   \n",
       "177  2020-04-03 13:40:26.485266+00:00     0.62                          0.15   \n",
       "50   2020-04-03 13:40:12.488638+00:00     0.25                          0.06   \n",
       "10   2020-04-03 13:40:14.067300+00:00     0.12                          0.03   \n",
       "29   2020-04-03 13:40:16.775689+00:00     0.05                          0.01   \n",
       "\n",
       "     % Share of World's Recovered  \n",
       "18                           4.74  \n",
       "19                          13.89  \n",
       "20                           8.32  \n",
       "117                         10.21  \n",
       "134                         34.85  \n",
       "122                          5.66  \n",
       "120                          0.06  \n",
       "42                           0.13  \n",
       "46                           0.03  \n",
       "177                          0.29  \n",
       "50                           0.02  \n",
       "10                           0.02  \n",
       "29                           0.02  "
      ]
     },
     "execution_count": 28,
     "metadata": {},
     "output_type": "execute_result"
    }
   ],
   "source": [
    "world_tracker(df_world)"
   ]
  },
  {
   "cell_type": "markdown",
   "metadata": {},
   "source": [
    "# Counties and Cities"
   ]
  },
  {
   "cell_type": "markdown",
   "metadata": {},
   "source": [
    "## Import from Sources"
   ]
  },
  {
   "cell_type": "code",
   "execution_count": 23,
   "metadata": {},
   "outputs": [
    {
     "name": "stdout",
     "output_type": "stream",
     "text": [
      "Success!\n"
     ]
    }
   ],
   "source": [
    "city_response = requests.get('https://www.trackcorona.live/api/cities/')\n",
    "\n",
    "if city_response.status_code == 200:\n",
    "    print('Success!')\n",
    "else:\n",
    "    print('An error has occurred')\n",
    "    exit()"
   ]
  },
  {
   "cell_type": "code",
   "execution_count": 24,
   "metadata": {},
   "outputs": [],
   "source": [
    "# Convert json to df\n",
    "df_citycounty = pd.json_normalize(city_response.json()['data'])"
   ]
  },
  {
   "cell_type": "markdown",
   "metadata": {},
   "source": [
    "## Town Tracker"
   ]
  },
  {
   "cell_type": "code",
   "execution_count": 25,
   "metadata": {},
   "outputs": [],
   "source": [
    "town_list = ['Corse','Heerlen']"
   ]
  },
  {
   "cell_type": "code",
   "execution_count": 26,
   "metadata": {},
   "outputs": [],
   "source": [
    "def town_tracker (df, town_list=town_list, sort_by=\"confirmed\"):\n",
    "    df_city = df[~df['location'].str.contains(\" County\")]\n",
    "    jnd = '|'.join(town_list)\n",
    "    df_find = df_city[df_city['location'].str.contains(jnd)]\n",
    "    df_find = df_find.sort_values(sort_by, ascending=False)\n",
    "    return df_find"
   ]
  },
  {
   "cell_type": "code",
   "execution_count": 27,
   "metadata": {},
   "outputs": [
    {
     "data": {
      "text/html": [
       "<div>\n",
       "<style scoped>\n",
       "    .dataframe tbody tr th:only-of-type {\n",
       "        vertical-align: middle;\n",
       "    }\n",
       "\n",
       "    .dataframe tbody tr th {\n",
       "        vertical-align: top;\n",
       "    }\n",
       "\n",
       "    .dataframe thead th {\n",
       "        text-align: right;\n",
       "    }\n",
       "</style>\n",
       "<table border=\"1\" class=\"dataframe\">\n",
       "  <thead>\n",
       "    <tr style=\"text-align: right;\">\n",
       "      <th></th>\n",
       "      <th>location</th>\n",
       "      <th>latitude</th>\n",
       "      <th>longitude</th>\n",
       "      <th>confirmed</th>\n",
       "      <th>dead</th>\n",
       "      <th>recovered</th>\n",
       "      <th>updated</th>\n",
       "    </tr>\n",
       "  </thead>\n",
       "  <tbody>\n",
       "    <tr>\n",
       "      <th>2446</th>\n",
       "      <td>Corse</td>\n",
       "      <td>42.039604</td>\n",
       "      <td>9.012893</td>\n",
       "      <td>250</td>\n",
       "      <td>23.0</td>\n",
       "      <td>110.0</td>\n",
       "      <td>2020-04-03 15:02:32.899336+00:00</td>\n",
       "    </tr>\n",
       "    <tr>\n",
       "      <th>35</th>\n",
       "      <td>Heerlen</td>\n",
       "      <td>50.888174</td>\n",
       "      <td>5.979499</td>\n",
       "      <td>72</td>\n",
       "      <td>NaN</td>\n",
       "      <td>NaN</td>\n",
       "      <td>2020-04-03 15:02:06.692302+00:00</td>\n",
       "    </tr>\n",
       "  </tbody>\n",
       "</table>\n",
       "</div>"
      ],
      "text/plain": [
       "     location   latitude  longitude  confirmed  dead  recovered  \\\n",
       "2446    Corse  42.039604   9.012893        250  23.0      110.0   \n",
       "35    Heerlen  50.888174   5.979499         72   NaN        NaN   \n",
       "\n",
       "                               updated  \n",
       "2446  2020-04-03 15:02:32.899336+00:00  \n",
       "35    2020-04-03 15:02:06.692302+00:00  "
      ]
     },
     "execution_count": 27,
     "metadata": {},
     "output_type": "execute_result"
    }
   ],
   "source": [
    "town_tracker(df_citycounty)"
   ]
  },
  {
   "cell_type": "markdown",
   "metadata": {},
   "source": [
    "## County Tracker"
   ]
  },
  {
   "cell_type": "code",
   "execution_count": 28,
   "metadata": {},
   "outputs": [],
   "source": [
    "county_list = ['Summit County, Ohio', \n",
    "                'Cuyahoga County, Ohio', \n",
    "                'Suffolk County, Massachusetts',\n",
    "                'Walker County, Texas',\n",
    "                'Brooklyn', 'Queens', 'Manhattan', 'Bronx', 'Staten'] "
   ]
  },
  {
   "cell_type": "code",
   "execution_count": 29,
   "metadata": {},
   "outputs": [],
   "source": [
    "county_pop = pd.read_excel(\"countypop.xlsx\", sheet_name=1)\n",
    "county_pop = county_pop.iloc[1:].reset_index(drop=True)\n",
    "county_pop['County'] = county_pop['County'].str[1:] # remove period from beginning of each county name"
   ]
  },
  {
   "cell_type": "code",
   "execution_count": 30,
   "metadata": {},
   "outputs": [],
   "source": [
    "def county_tracker(df, county_pop = county_pop, county_list=county_list, sort_by=\"confirmed\"):\n",
    "    df_county = df[df['location'].str.contains(\" County\")].reset_index(drop=True)\n",
    "    df_pop = df_county.merge(county_pop, left_on=\"location\", right_on=\"County\").drop(\"County\", axis=1)\n",
    "    df_pop['% confirmed'] = round((df_pop['confirmed']/df_pop['Population'])*100, 2)   \n",
    "    \n",
    "    df_pop = df_pop.sort_values(sort_by, ascending=False)\n",
    "\n",
    "    columns = ['confirmed','Population']       \n",
    "    for col in columns:\n",
    "        df_pop[col] = pd.to_numeric(df_pop[col]).apply(round)\n",
    "        df_pop[col] = df_pop[col].apply(lambda x: \"{:,}\".format(x))\n",
    "\n",
    "    df_pop['% confirmed'] = df_pop['% confirmed'].apply(str) + \"%\"\n",
    "    \n",
    "    jnd = '|'.join(county_list)\n",
    "    df_find = df_pop[df_pop['location'].str.contains(jnd)]\n",
    "    return df_find\n"
   ]
  },
  {
   "cell_type": "code",
   "execution_count": 31,
   "metadata": {},
   "outputs": [
    {
     "data": {
      "text/html": [
       "<div>\n",
       "<style scoped>\n",
       "    .dataframe tbody tr th:only-of-type {\n",
       "        vertical-align: middle;\n",
       "    }\n",
       "\n",
       "    .dataframe tbody tr th {\n",
       "        vertical-align: top;\n",
       "    }\n",
       "\n",
       "    .dataframe thead th {\n",
       "        text-align: right;\n",
       "    }\n",
       "</style>\n",
       "<table border=\"1\" class=\"dataframe\">\n",
       "  <thead>\n",
       "    <tr style=\"text-align: right;\">\n",
       "      <th></th>\n",
       "      <th>location</th>\n",
       "      <th>latitude</th>\n",
       "      <th>longitude</th>\n",
       "      <th>confirmed</th>\n",
       "      <th>dead</th>\n",
       "      <th>recovered</th>\n",
       "      <th>updated</th>\n",
       "      <th>Population</th>\n",
       "      <th>% confirmed</th>\n",
       "    </tr>\n",
       "  </thead>\n",
       "  <tbody>\n",
       "    <tr>\n",
       "      <th>206</th>\n",
       "      <td>Queens County, New York</td>\n",
       "      <td>40.728224</td>\n",
       "      <td>-73.794852</td>\n",
       "      <td>16,819</td>\n",
       "      <td>0.0</td>\n",
       "      <td>NaN</td>\n",
       "      <td>2020-04-03 15:00:49.056594+00:00</td>\n",
       "      <td>2,253,858</td>\n",
       "      <td>0.75%</td>\n",
       "    </tr>\n",
       "    <tr>\n",
       "      <th>231</th>\n",
       "      <td>Bronx County, New York</td>\n",
       "      <td>40.837049</td>\n",
       "      <td>-73.865430</td>\n",
       "      <td>9,343</td>\n",
       "      <td>0.0</td>\n",
       "      <td>NaN</td>\n",
       "      <td>2020-04-03 15:00:49.042380+00:00</td>\n",
       "      <td>1,418,207</td>\n",
       "      <td>0.66%</td>\n",
       "    </tr>\n",
       "    <tr>\n",
       "      <th>2149</th>\n",
       "      <td>Suffolk County, Massachusetts</td>\n",
       "      <td>42.352287</td>\n",
       "      <td>-71.050423</td>\n",
       "      <td>1,896</td>\n",
       "      <td>19.0</td>\n",
       "      <td>0.0</td>\n",
       "      <td>2020-04-02 15:01:04.033279+00:00</td>\n",
       "      <td>803,907</td>\n",
       "      <td>0.24%</td>\n",
       "    </tr>\n",
       "    <tr>\n",
       "      <th>1742</th>\n",
       "      <td>Cuyahoga County, Ohio</td>\n",
       "      <td>41.433923</td>\n",
       "      <td>-81.675820</td>\n",
       "      <td>663</td>\n",
       "      <td>12.0</td>\n",
       "      <td>0.0</td>\n",
       "      <td>2020-04-02 15:01:04.033279+00:00</td>\n",
       "      <td>1,235,072</td>\n",
       "      <td>0.05%</td>\n",
       "    </tr>\n",
       "    <tr>\n",
       "      <th>1748</th>\n",
       "      <td>Summit County, Ohio</td>\n",
       "      <td>41.091899</td>\n",
       "      <td>-81.559643</td>\n",
       "      <td>155</td>\n",
       "      <td>7.0</td>\n",
       "      <td>0.0</td>\n",
       "      <td>2020-04-02 15:01:04.033279+00:00</td>\n",
       "      <td>541,013</td>\n",
       "      <td>0.03%</td>\n",
       "    </tr>\n",
       "    <tr>\n",
       "      <th>1974</th>\n",
       "      <td>Walker County, Texas</td>\n",
       "      <td>30.681539</td>\n",
       "      <td>-95.645795</td>\n",
       "      <td>7</td>\n",
       "      <td>0.0</td>\n",
       "      <td>0.0</td>\n",
       "      <td>2020-04-02 15:01:04.033279+00:00</td>\n",
       "      <td>72,971</td>\n",
       "      <td>0.01%</td>\n",
       "    </tr>\n",
       "  </tbody>\n",
       "</table>\n",
       "</div>"
      ],
      "text/plain": [
       "                           location   latitude  longitude confirmed  dead  \\\n",
       "206         Queens County, New York  40.728224 -73.794852    16,819   0.0   \n",
       "231          Bronx County, New York  40.837049 -73.865430     9,343   0.0   \n",
       "2149  Suffolk County, Massachusetts  42.352287 -71.050423     1,896  19.0   \n",
       "1742          Cuyahoga County, Ohio  41.433923 -81.675820       663  12.0   \n",
       "1748            Summit County, Ohio  41.091899 -81.559643       155   7.0   \n",
       "1974           Walker County, Texas  30.681539 -95.645795         7   0.0   \n",
       "\n",
       "      recovered                           updated Population % confirmed  \n",
       "206         NaN  2020-04-03 15:00:49.056594+00:00  2,253,858       0.75%  \n",
       "231         NaN  2020-04-03 15:00:49.042380+00:00  1,418,207       0.66%  \n",
       "2149        0.0  2020-04-02 15:01:04.033279+00:00    803,907       0.24%  \n",
       "1742        0.0  2020-04-02 15:01:04.033279+00:00  1,235,072       0.05%  \n",
       "1748        0.0  2020-04-02 15:01:04.033279+00:00    541,013       0.03%  \n",
       "1974        0.0  2020-04-02 15:01:04.033279+00:00     72,971       0.01%  "
      ]
     },
     "execution_count": 31,
     "metadata": {},
     "output_type": "execute_result"
    }
   ],
   "source": [
    "county_tracker(df_citycounty)"
   ]
  },
  {
   "cell_type": "code",
   "execution_count": null,
   "metadata": {},
   "outputs": [],
   "source": []
  },
  {
   "cell_type": "code",
   "execution_count": null,
   "metadata": {},
   "outputs": [],
   "source": []
  }
 ],
 "metadata": {
  "kernelspec": {
   "display_name": "Python 3",
   "language": "python",
   "name": "python3"
  },
  "language_info": {
   "codemirror_mode": {
    "name": "ipython",
    "version": 3
   },
   "file_extension": ".py",
   "mimetype": "text/x-python",
   "name": "python",
   "nbconvert_exporter": "python",
   "pygments_lexer": "ipython3",
   "version": "3.7.3"
  }
 },
 "nbformat": 4,
 "nbformat_minor": 4
}
