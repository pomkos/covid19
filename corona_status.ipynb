{
 "cells": [
  {
   "cell_type": "markdown",
   "metadata": {},
   "source": [
    "* json how to: https://realpython.com/python-requests/\n",
    "* USA source: https://covidtracking.com/us-daily/\n",
    "* world source: https://www.trackcorona.live\n",
    "* state pop source: https://www.census.gov/data/datasets/time-series/demo/popest/2010s-state-total.html#par_textimage_1873399417\n",
    "* state abbreviation source: https://www.50states.com/abbreviations.htm"
   ]
  },
  {
   "cell_type": "markdown",
   "metadata": {},
   "source": [
    "# State"
   ]
  },
  {
   "cell_type": "code",
   "execution_count": 1,
   "metadata": {},
   "outputs": [
    {
     "name": "stderr",
     "output_type": "stream",
     "text": [
      "\n",
      "Bad key \"text.kerning_factor\" on line 4 in\n",
      "/opt/tljh/user/lib/python3.7/site-packages/matplotlib/mpl-data/stylelib/_classic_test_patch.mplstyle.\n",
      "You probably need to get an updated matplotlibrc file from\n",
      "https://github.com/matplotlib/matplotlib/blob/v3.1.3/matplotlibrc.template\n",
      "or from the matplotlib source distribution\n"
     ]
    }
   ],
   "source": [
    "import pandas as pd\n",
    "import numpy as np\n",
    "import matplotlib.pyplot as plt\n",
    "import seaborn as sns\n",
    "import requests"
   ]
  },
  {
   "cell_type": "code",
   "execution_count": 2,
   "metadata": {},
   "outputs": [
    {
     "name": "stdout",
     "output_type": "stream",
     "text": [
      "Success!\n"
     ]
    }
   ],
   "source": [
    "state_response = requests.get('https://covidtracking.com/api/states')\n",
    "\n",
    "if state_response.status_code == 200:\n",
    "    print('Success!')\n",
    "else:\n",
    "    print('An error has occurred')\n",
    "    exit()\n"
   ]
  },
  {
   "cell_type": "code",
   "execution_count": 3,
   "metadata": {},
   "outputs": [],
   "source": [
    "# Convert json to df\n",
    "df_state = pd.json_normalize(state_response.json())"
   ]
  },
  {
   "cell_type": "code",
   "execution_count": 4,
   "metadata": {},
   "outputs": [],
   "source": [
    "# Import states, abbreviations, state population\n",
    "abbrevs = pd.read_csv('abbrevs.csv')\n",
    "statepop = pd.read_csv('statepop.csv').iloc[5:].loc[:,('NAME','POPESTIMATE2019')].reset_index(drop = True)\n",
    "state_pop = abbrevs.merge(statepop, left_on='State', right_on='NAME').loc[:,('NAME','Abbreviation','POPESTIMATE2019')]\n",
    "state_pop.columns = ['state','abbrev','Pop2019']"
   ]
  },
  {
   "cell_type": "code",
   "execution_count": 320,
   "metadata": {},
   "outputs": [],
   "source": [
    "class state_tracker:\n",
    "    '''\n",
    "    Returns covid stats, sorts by preference, and plots results\n",
    "    '''\n",
    "    def __init__(self, df, state_pop=state_pop, states_list=['MA', 'TX', 'OH', 'VT']):\n",
    "        '''\n",
    "        Selects appropriate columns and filters by state. Calculates percent deaths and percent hospitalized.\n",
    "        \n",
    "        % Deaths = Deaths/Positive\n",
    "        % Hospitalized = Hospitalized/Positive\n",
    "        '''\n",
    "        # Select appropriate columns\n",
    "        self.df = df[['state','positive','negative','hospitalized','death','lastUpdateEt']]\n",
    "        # Rename columns\n",
    "        self.df.columns = ['State', 'Positive', 'Negative', 'Hospitalized', 'Deaths', 'Last Updated']\n",
    "        # Replace NaN with 0\n",
    "        self.df = self.df.fillna(0)\n",
    "        \n",
    "        self.state_pop = state_pop\n",
    "        self.merged = self.df.merge(self.state_pop, left_on='State', right_on='abbrev')\n",
    "        self.merged = self.merged.drop(['state','abbrev'], 1)\n",
    "        \n",
    "        df_select = self.merged\n",
    "        # Percent death calculation\n",
    "        df_select['% Deaths'] = round((df_select['Deaths']/df_select['Positive']) *100,2)\n",
    "        df_select['% Hospitalized'] = round((df_select['Hospitalized']/df_select['Positive']) *100,2)\n",
    "        df_select['% Pop Positive'] = round((df_select['Positive']/df_select['Pop2019']) *100,2)\n",
    "        \n",
    "        # Select the states\n",
    "        self.jnd = '|'.join(states_list)\n",
    "        df_select = self.merged[self.merged['State'].str.contains(self.jnd)]\n",
    "               \n",
    "        self.df_select = pd.DataFrame(df_select)\n",
    "    def all_df(self):\n",
    "        '''\n",
    "        Returns all states, select columns only.\n",
    "        '''\n",
    "        return self.merged\n",
    "    \n",
    "    def plotter(self, sort_by=\"% Hospitalized\"):\n",
    "        '''\n",
    "        Plots the formatted df by the sort_by variable.\n",
    "        '''\n",
    "        df = self.df_select.sort_values(sort_by, ascending=False)\n",
    "        sns.barplot(x = df.State, y = df[sort_by])\n",
    "        if sort_by==\"% Pop Positive\":\n",
    "            plt.title(f\"{sort_by} per State\")\n",
    "        else:\n",
    "            plt.title(f\"Number of {sort_by} results per State\")\n",
    "        \n",
    "        return plt.show()\n",
    "    \n",
    "    def table(self, sort_by=\"% Hospitalized\"):\n",
    "        '''\n",
    "        Returns the formatted df, but in a readable and prettified table\n",
    "        \n",
    "        Adds commas at 1000 values\n",
    "        Adds % to the percent tables\n",
    "        All values are in string\n",
    "        '''\n",
    "        df_select = self.df_select\n",
    "        df_select = df_select.sort_values(sort_by, ascending = False)\n",
    "\n",
    "        # Prettify output\n",
    "        # Format percentages\n",
    "        df_select['% Deaths'] = df_select['% Deaths'].apply(str) + \"%\"\n",
    "        df_select['% Hospitalized'] = df_select['% Hospitalized'].apply(str) + \"%\"\n",
    "        df_select['% Pop Positive'] = df_select['% Pop Positive'].apply(str) + \"%\"\n",
    "\n",
    "        # Round floats to just integers, use commas to separate\n",
    "        columns = ['Positive', 'Negative', 'Hospitalized', 'Deaths', 'Pop2019']\n",
    "\n",
    "        for col in columns:\n",
    "            df_select[col] = pd.to_numeric(df_select[col]).apply(round)\n",
    "            df_select[col] = df_select[col].apply(lambda x: \"{:,}\".format(x))\n",
    "        self.table = df_select\n",
    "        return(self.table)\n"
   ]
  },
  {
   "cell_type": "code",
   "execution_count": 321,
   "metadata": {},
   "outputs": [],
   "source": [
    "yan = ['MA', 'TX', 'OH', 'VT', 'NY', 'NJ', 'CA']\n",
    "chat = ['MA', 'TX', 'OH', 'VT']"
   ]
  },
  {
   "cell_type": "code",
   "execution_count": 322,
   "metadata": {},
   "outputs": [
    {
     "data": {
      "image/png": "[encoded data removed]",
      "text/plain": [
       "<Figure size 432x288 with 1 Axes>"
      ]
     },
     "metadata": {
      "needs_background": "light"
     },
     "output_type": "display_data"
    }
   ],
   "source": [
    "covid = state_tracker(df_state, states_list=yan)\n",
    "covid.plotter(sort_by=\"% Pop Positive\")"
   ]
  },
  {
   "cell_type": "code",
   "execution_count": 323,
   "metadata": {},
   "outputs": [
    {
     "data": {
      "text/html": [
       "<div>\n",
       "<style scoped>\n",
       "    .dataframe tbody tr th:only-of-type {\n",
       "        vertical-align: middle;\n",
       "    }\n",
       "\n",
       "    .dataframe tbody tr th {\n",
       "        vertical-align: top;\n",
       "    }\n",
       "\n",
       "    .dataframe thead th {\n",
       "        text-align: right;\n",
       "    }\n",
       "</style>\n",
       "<table border=\"1\" class=\"dataframe\">\n",
       "  <thead>\n",
       "    <tr style=\"text-align: right;\">\n",
       "      <th></th>\n",
       "      <th>State</th>\n",
       "      <th>Positive</th>\n",
       "      <th>Negative</th>\n",
       "      <th>Hospitalized</th>\n",
       "      <th>Deaths</th>\n",
       "      <th>Last Updated</th>\n",
       "      <th>Pop2019</th>\n",
       "      <th>% Deaths</th>\n",
       "      <th>% Hospitalized</th>\n",
       "      <th>% Pop Positive</th>\n",
       "    </tr>\n",
       "  </thead>\n",
       "  <tbody>\n",
       "    <tr>\n",
       "      <th>33</th>\n",
       "      <td>NY</td>\n",
       "      <td>66,497</td>\n",
       "      <td>119,971</td>\n",
       "      <td>13,721</td>\n",
       "      <td>1,218</td>\n",
       "      <td>3/29 09:16</td>\n",
       "      <td>19,453,561</td>\n",
       "      <td>1.83%</td>\n",
       "      <td>20.63%</td>\n",
       "      <td>0.34%</td>\n",
       "    </tr>\n",
       "    <tr>\n",
       "      <th>30</th>\n",
       "      <td>NJ</td>\n",
       "      <td>16,636</td>\n",
       "      <td>25,224</td>\n",
       "      <td>0</td>\n",
       "      <td>198</td>\n",
       "      <td>3/30 14:00</td>\n",
       "      <td>8,882,190</td>\n",
       "      <td>1.19%</td>\n",
       "      <td>0.0%</td>\n",
       "      <td>0.19%</td>\n",
       "    </tr>\n",
       "    <tr>\n",
       "      <th>18</th>\n",
       "      <td>MA</td>\n",
       "      <td>5,752</td>\n",
       "      <td>37,041</td>\n",
       "      <td>453</td>\n",
       "      <td>56</td>\n",
       "      <td>3/30 16:15</td>\n",
       "      <td>6,892,503</td>\n",
       "      <td>0.97%</td>\n",
       "      <td>7.88%</td>\n",
       "      <td>0.08%</td>\n",
       "    </tr>\n",
       "    <tr>\n",
       "      <th>45</th>\n",
       "      <td>VT</td>\n",
       "      <td>256</td>\n",
       "      <td>3,674</td>\n",
       "      <td>18</td>\n",
       "      <td>12</td>\n",
       "      <td>3/30 13:00</td>\n",
       "      <td>623,989</td>\n",
       "      <td>4.69%</td>\n",
       "      <td>7.03%</td>\n",
       "      <td>0.04%</td>\n",
       "    </tr>\n",
       "    <tr>\n",
       "      <th>4</th>\n",
       "      <td>CA</td>\n",
       "      <td>7,398</td>\n",
       "      <td>21,488</td>\n",
       "      <td>1,432</td>\n",
       "      <td>146</td>\n",
       "      <td>3/30 00:00</td>\n",
       "      <td>39,512,223</td>\n",
       "      <td>1.97%</td>\n",
       "      <td>19.36%</td>\n",
       "      <td>0.02%</td>\n",
       "    </tr>\n",
       "    <tr>\n",
       "      <th>34</th>\n",
       "      <td>OH</td>\n",
       "      <td>1,933</td>\n",
       "      <td>25,342</td>\n",
       "      <td>475</td>\n",
       "      <td>39</td>\n",
       "      <td>3/30 14:00</td>\n",
       "      <td>11,689,100</td>\n",
       "      <td>2.02%</td>\n",
       "      <td>24.57%</td>\n",
       "      <td>0.02%</td>\n",
       "    </tr>\n",
       "    <tr>\n",
       "      <th>42</th>\n",
       "      <td>TX</td>\n",
       "      <td>2,877</td>\n",
       "      <td>33,003</td>\n",
       "      <td>0</td>\n",
       "      <td>34</td>\n",
       "      <td>3/30 12:45</td>\n",
       "      <td>28,995,881</td>\n",
       "      <td>1.18%</td>\n",
       "      <td>0.0%</td>\n",
       "      <td>0.01%</td>\n",
       "    </tr>\n",
       "  </tbody>\n",
       "</table>\n",
       "</div>"
      ],
      "text/plain": [
       "   State Positive Negative Hospitalized Deaths Last Updated     Pop2019  \\\n",
       "33    NY   66,497  119,971       13,721  1,218   3/29 09:16  19,453,561   \n",
       "30    NJ   16,636   25,224            0    198   3/30 14:00   8,882,190   \n",
       "18    MA    5,752   37,041          453     56   3/30 16:15   6,892,503   \n",
       "45    VT      256    3,674           18     12   3/30 13:00     623,989   \n",
       "4     CA    7,398   21,488        1,432    146   3/30 00:00  39,512,223   \n",
       "34    OH    1,933   25,342          475     39   3/30 14:00  11,689,100   \n",
       "42    TX    2,877   33,003            0     34   3/30 12:45  28,995,881   \n",
       "\n",
       "   % Deaths % Hospitalized % Pop Positive  \n",
       "33    1.83%         20.63%          0.34%  \n",
       "30    1.19%           0.0%          0.19%  \n",
       "18    0.97%          7.88%          0.08%  \n",
       "45    4.69%          7.03%          0.04%  \n",
       "4     1.97%         19.36%          0.02%  \n",
       "34    2.02%         24.57%          0.02%  \n",
       "42    1.18%           0.0%          0.01%  "
      ]
     },
     "execution_count": 323,
     "metadata": {},
     "output_type": "execute_result"
    }
   ],
   "source": [
    "covid.table(sort_by = \"% Pop Positive\")"
   ]
  },
  {
   "cell_type": "code",
   "execution_count": 324,
   "metadata": {},
   "outputs": [
    {
     "name": "stdout",
     "output_type": "stream",
     "text": [
      "Totals in the USA to date:\n",
      "     Infected: 161,640\n",
      "     Hospitalized: 22,471\n",
      "     Deaths: 2,965\n"
     ]
    }
   ],
   "source": [
    "all_df = covid.all_df()\n",
    "all_pos = all_df.sum()[\"Positive\"]\n",
    "all_dead = all_df.sum()[\"Deaths\"]\n",
    "all_hosp = all_df.sum()[\"Hospitalized\"]\n",
    "\n",
    "print(\"Totals in the USA to date:\")\n",
    "print(f'     Infected: {\"{:,}\".format(round(all_pos))}')\n",
    "print(f'     Hospitalized: {\"{:,}\".format(round(all_hosp))}') \n",
    "print(f'     Deaths: {\"{:,}\".format(round(all_dead))}')"
   ]
  },
  {
   "cell_type": "markdown",
   "metadata": {},
   "source": [
    "# World"
   ]
  },
  {
   "cell_type": "code",
   "execution_count": 12,
   "metadata": {},
   "outputs": [],
   "source": [
    "import time"
   ]
  },
  {
   "cell_type": "code",
   "execution_count": 11,
   "metadata": {},
   "outputs": [
    {
     "name": "stdout",
     "output_type": "stream",
     "text": [
      "Success!\n"
     ]
    }
   ],
   "source": [
    "world_response = requests.get('https://www.trackcorona.live/api/countries/')\n",
    "\n",
    "if world_response.status_code == 200:\n",
    "    print('Success!')\n",
    "else:\n",
    "    print('An error has occurred')\n",
    "    exit()"
   ]
  },
  {
   "cell_type": "code",
   "execution_count": 12,
   "metadata": {},
   "outputs": [],
   "source": [
    "# Convert json to df\n",
    "df_world = pd.json_normalize(world_response.json()['data'])"
   ]
  },
  {
   "cell_type": "code",
   "execution_count": 13,
   "metadata": {},
   "outputs": [],
   "source": [
    "country_list = ['United States', 'Hungary', 'Jordan', 'Brazil', 'Cambodia', 'Germany','Mexico', 'China']"
   ]
  },
  {
   "cell_type": "code",
   "execution_count": 309,
   "metadata": {},
   "outputs": [],
   "source": [
    "def world_tracker(df, country_list=country_list):\n",
    "    df = df.loc[:, ['location', 'confirmed','dead','recovered','updated']]\n",
    "    df.columns = [\"Location\",\"Confirmed\", \"Dead\", \"Recovered\", \"Updated\"]\n",
    "    \n",
    "    jnd = '|'.join(country_list)\n",
    "    df = df[df['Location'].str.contains(jnd)]\n",
    "    \n",
    "    df = df.sort_values(\"Confirmed\", ascending=False)\n",
    "    return df"
   ]
  },
  {
   "cell_type": "code",
   "execution_count": 310,
   "metadata": {},
   "outputs": [
    {
     "data": {
      "text/html": [
       "<div>\n",
       "<style scoped>\n",
       "    .dataframe tbody tr th:only-of-type {\n",
       "        vertical-align: middle;\n",
       "    }\n",
       "\n",
       "    .dataframe tbody tr th {\n",
       "        vertical-align: top;\n",
       "    }\n",
       "\n",
       "    .dataframe thead th {\n",
       "        text-align: right;\n",
       "    }\n",
       "</style>\n",
       "<table border=\"1\" class=\"dataframe\">\n",
       "  <thead>\n",
       "    <tr style=\"text-align: right;\">\n",
       "      <th></th>\n",
       "      <th>Location</th>\n",
       "      <th>Confirmed</th>\n",
       "      <th>Dead</th>\n",
       "      <th>Recovered</th>\n",
       "      <th>Updated</th>\n",
       "    </tr>\n",
       "  </thead>\n",
       "  <tbody>\n",
       "    <tr>\n",
       "      <th>15</th>\n",
       "      <td>United States</td>\n",
       "      <td>164496</td>\n",
       "      <td>3173</td>\n",
       "      <td>5945</td>\n",
       "      <td>2020-03-31 14:00:09.971177+00:00</td>\n",
       "    </tr>\n",
       "    <tr>\n",
       "      <th>131</th>\n",
       "      <td>China</td>\n",
       "      <td>81518</td>\n",
       "      <td>3305</td>\n",
       "      <td>76052</td>\n",
       "      <td>2020-03-31 14:00:10.105434+00:00</td>\n",
       "    </tr>\n",
       "    <tr>\n",
       "      <th>114</th>\n",
       "      <td>Germany</td>\n",
       "      <td>67987</td>\n",
       "      <td>707</td>\n",
       "      <td>7635</td>\n",
       "      <td>2020-03-31 14:00:10.121562+00:00</td>\n",
       "    </tr>\n",
       "    <tr>\n",
       "      <th>104</th>\n",
       "      <td>Brazil</td>\n",
       "      <td>4661</td>\n",
       "      <td>165</td>\n",
       "      <td>127</td>\n",
       "      <td>2020-03-31 14:00:10.513702+00:00</td>\n",
       "    </tr>\n",
       "    <tr>\n",
       "      <th>166</th>\n",
       "      <td>Mexico</td>\n",
       "      <td>1094</td>\n",
       "      <td>28</td>\n",
       "      <td>35</td>\n",
       "      <td>2020-03-31 14:00:11.281606+00:00</td>\n",
       "    </tr>\n",
       "    <tr>\n",
       "      <th>46</th>\n",
       "      <td>Hungary</td>\n",
       "      <td>492</td>\n",
       "      <td>16</td>\n",
       "      <td>37</td>\n",
       "      <td>2020-03-31 14:00:11.634069+00:00</td>\n",
       "    </tr>\n",
       "    <tr>\n",
       "      <th>16</th>\n",
       "      <td>Jordan</td>\n",
       "      <td>268</td>\n",
       "      <td>5</td>\n",
       "      <td>26</td>\n",
       "      <td>2020-03-31 14:00:11.735062+00:00</td>\n",
       "    </tr>\n",
       "    <tr>\n",
       "      <th>30</th>\n",
       "      <td>Cambodia</td>\n",
       "      <td>109</td>\n",
       "      <td>0</td>\n",
       "      <td>23</td>\n",
       "      <td>2020-03-31 14:00:11.904729+00:00</td>\n",
       "    </tr>\n",
       "  </tbody>\n",
       "</table>\n",
       "</div>"
      ],
      "text/plain": [
       "          Location  Confirmed  Dead  Recovered  \\\n",
       "15   United States     164496  3173       5945   \n",
       "131          China      81518  3305      76052   \n",
       "114        Germany      67987   707       7635   \n",
       "104         Brazil       4661   165        127   \n",
       "166         Mexico       1094    28         35   \n",
       "46         Hungary        492    16         37   \n",
       "16          Jordan        268     5         26   \n",
       "30        Cambodia        109     0         23   \n",
       "\n",
       "                              Updated  \n",
       "15   2020-03-31 14:00:09.971177+00:00  \n",
       "131  2020-03-31 14:00:10.105434+00:00  \n",
       "114  2020-03-31 14:00:10.121562+00:00  \n",
       "104  2020-03-31 14:00:10.513702+00:00  \n",
       "166  2020-03-31 14:00:11.281606+00:00  \n",
       "46   2020-03-31 14:00:11.634069+00:00  \n",
       "16   2020-03-31 14:00:11.735062+00:00  \n",
       "30   2020-03-31 14:00:11.904729+00:00  "
      ]
     },
     "execution_count": 310,
     "metadata": {},
     "output_type": "execute_result"
    }
   ],
   "source": [
    "world_tracker(df_world)"
   ]
  },
  {
   "cell_type": "markdown",
   "metadata": {},
   "source": [
    "# Counties and Cities"
   ]
  },
  {
   "cell_type": "markdown",
   "metadata": {},
   "source": [
    "## Import from Sources"
   ]
  },
  {
   "cell_type": "code",
   "execution_count": 119,
   "metadata": {},
   "outputs": [
    {
     "name": "stdout",
     "output_type": "stream",
     "text": [
      "Success!\n"
     ]
    }
   ],
   "source": [
    "city_response = requests.get('https://www.trackcorona.live/api/cities/')\n",
    "\n",
    "if city_response.status_code == 200:\n",
    "    print('Success!')\n",
    "else:\n",
    "    print('An error has occurred')\n",
    "    exit()"
   ]
  },
  {
   "cell_type": "code",
   "execution_count": 120,
   "metadata": {},
   "outputs": [],
   "source": [
    "# Convert json to df\n",
    "df_citycounty = pd.json_normalize(city_response.json()['data'])"
   ]
  },
  {
   "cell_type": "markdown",
   "metadata": {},
   "source": [
    "## Town Tracker"
   ]
  },
  {
   "cell_type": "code",
   "execution_count": 296,
   "metadata": {},
   "outputs": [],
   "source": [
    "town_list = ['Corse','Heerlen', 'P']"
   ]
  },
  {
   "cell_type": "code",
   "execution_count": 297,
   "metadata": {},
   "outputs": [],
   "source": [
    "def town_tracker (df, town_list=town_list):\n",
    "    df_city = df[~df['location'].str.contains(\" County\")]\n",
    "    jnd = '|'.join(town_list)\n",
    "    df_find = df_city[df_city['location'].str.contains(jnd)]\n",
    "    return df_find"
   ]
  },
  {
   "cell_type": "code",
   "execution_count": 298,
   "metadata": {},
   "outputs": [
    {
     "data": {
      "text/html": [
       "<div>\n",
       "<style scoped>\n",
       "    .dataframe tbody tr th:only-of-type {\n",
       "        vertical-align: middle;\n",
       "    }\n",
       "\n",
       "    .dataframe tbody tr th {\n",
       "        vertical-align: top;\n",
       "    }\n",
       "\n",
       "    .dataframe thead th {\n",
       "        text-align: right;\n",
       "    }\n",
       "</style>\n",
       "<table border=\"1\" class=\"dataframe\">\n",
       "  <thead>\n",
       "    <tr style=\"text-align: right;\">\n",
       "      <th></th>\n",
       "      <th>location</th>\n",
       "      <th>latitude</th>\n",
       "      <th>longitude</th>\n",
       "      <th>confirmed</th>\n",
       "      <th>dead</th>\n",
       "      <th>recovered</th>\n",
       "      <th>updated</th>\n",
       "    </tr>\n",
       "  </thead>\n",
       "  <tbody>\n",
       "    <tr>\n",
       "      <th>4</th>\n",
       "      <td>Corse</td>\n",
       "      <td>42.039604</td>\n",
       "      <td>9.012893</td>\n",
       "      <td>250</td>\n",
       "      <td>19.0</td>\n",
       "      <td>91.0</td>\n",
       "      <td>2020-03-31 14:41:57.841540+00:00</td>\n",
       "    </tr>\n",
       "    <tr>\n",
       "      <th>26</th>\n",
       "      <td>Heerlen</td>\n",
       "      <td>50.888174</td>\n",
       "      <td>5.979499</td>\n",
       "      <td>24</td>\n",
       "      <td>NaN</td>\n",
       "      <td>NaN</td>\n",
       "      <td>2020-03-31 14:41:09.944446+00:00</td>\n",
       "    </tr>\n",
       "    <tr>\n",
       "      <th>33</th>\n",
       "      <td>Southeastern Province</td>\n",
       "      <td>26.583442</td>\n",
       "      <td>107.982859</td>\n",
       "      <td>10</td>\n",
       "      <td>0.0</td>\n",
       "      <td>10.0</td>\n",
       "      <td>2020-03-31 14:41:29.947676+00:00</td>\n",
       "    </tr>\n",
       "    <tr>\n",
       "      <th>44</th>\n",
       "      <td>Pescaria Brava</td>\n",
       "      <td>-28.396625</td>\n",
       "      <td>-48.886425</td>\n",
       "      <td>1</td>\n",
       "      <td>NaN</td>\n",
       "      <td>NaN</td>\n",
       "      <td>2020-03-31 14:41:07.230806+00:00</td>\n",
       "    </tr>\n",
       "    <tr>\n",
       "      <th>58</th>\n",
       "      <td>Patos</td>\n",
       "      <td>-7.019224</td>\n",
       "      <td>-37.275069</td>\n",
       "      <td>1</td>\n",
       "      <td>NaN</td>\n",
       "      <td>NaN</td>\n",
       "      <td>2020-03-31 14:41:07.240891+00:00</td>\n",
       "    </tr>\n",
       "    <tr>\n",
       "      <th>...</th>\n",
       "      <td>...</td>\n",
       "      <td>...</td>\n",
       "      <td>...</td>\n",
       "      <td>...</td>\n",
       "      <td>...</td>\n",
       "      <td>...</td>\n",
       "      <td>...</td>\n",
       "    </tr>\n",
       "    <tr>\n",
       "      <th>2279</th>\n",
       "      <td>Suðurnes Peninsula</td>\n",
       "      <td>63.915480</td>\n",
       "      <td>-22.364967</td>\n",
       "      <td>51</td>\n",
       "      <td>NaN</td>\n",
       "      <td>NaN</td>\n",
       "      <td>2020-03-31 14:41:00.472394+00:00</td>\n",
       "    </tr>\n",
       "    <tr>\n",
       "      <th>2333</th>\n",
       "      <td>Madhya Pradesh</td>\n",
       "      <td>22.973423</td>\n",
       "      <td>78.656894</td>\n",
       "      <td>47</td>\n",
       "      <td>3.0</td>\n",
       "      <td>0.0</td>\n",
       "      <td>2020-03-31 14:42:03.116656+00:00</td>\n",
       "    </tr>\n",
       "    <tr>\n",
       "      <th>2340</th>\n",
       "      <td>Liang Ping District</td>\n",
       "      <td>30.674362</td>\n",
       "      <td>107.803911</td>\n",
       "      <td>4</td>\n",
       "      <td>0.0</td>\n",
       "      <td>4.0</td>\n",
       "      <td>2020-03-31 14:41:27.388472+00:00</td>\n",
       "    </tr>\n",
       "    <tr>\n",
       "      <th>3536</th>\n",
       "      <td>Portsmouth city, Virginia</td>\n",
       "      <td>36.835426</td>\n",
       "      <td>-76.298274</td>\n",
       "      <td>4</td>\n",
       "      <td>0.0</td>\n",
       "      <td>NaN</td>\n",
       "      <td>2020-03-30 14:40:09.624811+00:00</td>\n",
       "    </tr>\n",
       "    <tr>\n",
       "      <th>3660</th>\n",
       "      <td>Poquoson city, Virginia</td>\n",
       "      <td>37.122366</td>\n",
       "      <td>-76.345777</td>\n",
       "      <td>2</td>\n",
       "      <td>0.0</td>\n",
       "      <td>NaN</td>\n",
       "      <td>2020-03-30 14:40:09.624811+00:00</td>\n",
       "    </tr>\n",
       "  </tbody>\n",
       "</table>\n",
       "<p>107 rows × 7 columns</p>\n",
       "</div>"
      ],
      "text/plain": [
       "                       location   latitude   longitude  confirmed  dead  \\\n",
       "4                         Corse  42.039604    9.012893        250  19.0   \n",
       "26                      Heerlen  50.888174    5.979499         24   NaN   \n",
       "33        Southeastern Province  26.583442  107.982859         10   0.0   \n",
       "44               Pescaria Brava -28.396625  -48.886425          1   NaN   \n",
       "58                        Patos  -7.019224  -37.275069          1   NaN   \n",
       "...                         ...        ...         ...        ...   ...   \n",
       "2279         Suðurnes Peninsula  63.915480  -22.364967         51   NaN   \n",
       "2333             Madhya Pradesh  22.973423   78.656894         47   3.0   \n",
       "2340        Liang Ping District  30.674362  107.803911          4   0.0   \n",
       "3536  Portsmouth city, Virginia  36.835426  -76.298274          4   0.0   \n",
       "3660    Poquoson city, Virginia  37.122366  -76.345777          2   0.0   \n",
       "\n",
       "      recovered                           updated  \n",
       "4          91.0  2020-03-31 14:41:57.841540+00:00  \n",
       "26          NaN  2020-03-31 14:41:09.944446+00:00  \n",
       "33         10.0  2020-03-31 14:41:29.947676+00:00  \n",
       "44          NaN  2020-03-31 14:41:07.230806+00:00  \n",
       "58          NaN  2020-03-31 14:41:07.240891+00:00  \n",
       "...         ...                               ...  \n",
       "2279        NaN  2020-03-31 14:41:00.472394+00:00  \n",
       "2333        0.0  2020-03-31 14:42:03.116656+00:00  \n",
       "2340        4.0  2020-03-31 14:41:27.388472+00:00  \n",
       "3536        NaN  2020-03-30 14:40:09.624811+00:00  \n",
       "3660        NaN  2020-03-30 14:40:09.624811+00:00  \n",
       "\n",
       "[107 rows x 7 columns]"
      ]
     },
     "execution_count": 298,
     "metadata": {},
     "output_type": "execute_result"
    }
   ],
   "source": [
    "town_tracker(df_citycounty)"
   ]
  },
  {
   "cell_type": "markdown",
   "metadata": {},
   "source": [
    "## County Tracker"
   ]
  },
  {
   "cell_type": "code",
   "execution_count": 285,
   "metadata": {},
   "outputs": [],
   "source": [
    "county_list = ['Summit County, Ohio', \n",
    "                'Cuyahoga County, Ohio', \n",
    "                'Suffolk County, Massachusetts',\n",
    "                'Walker County, Texas',\n",
    "                'Brooklyn', 'Queens', 'Manhattan', 'Bronx', 'Staten']"
   ]
  },
  {
   "cell_type": "code",
   "execution_count": 286,
   "metadata": {},
   "outputs": [],
   "source": [
    "county_pop = pd.read_excel(\"countypop.xlsx\", sheet_name=1)\n",
    "county_pop = county_pop.iloc[1:].reset_index(drop=True)\n",
    "county_pop['County'] = county_pop['County'].str[1:] # remove period from beginning of each county name"
   ]
  },
  {
   "cell_type": "code",
   "execution_count": 287,
   "metadata": {},
   "outputs": [],
   "source": [
    "def county_tracker(df, county_pop = county_pop, county_list=county_list):\n",
    "    df_county = df[df['location'].str.contains(\" County\")].reset_index(drop=True)\n",
    "    df_pop = df_county.merge(county_pop, left_on=\"location\", right_on=\"County\").drop(\"County\", axis=1)\n",
    "    df_pop['% confirmed'] = round((df_pop['confirmed']/df_pop['Population'])*100, 2)   \n",
    "    \n",
    "    columns = ['confirmed','Population']    \n",
    "    for col in columns:\n",
    "        df_pop[col] = pd.to_numeric(df_pop[col]).apply(round)\n",
    "        df_pop[col] = df_pop[col].apply(lambda x: \"{:,}\".format(x))\n",
    "    df_pop['% confirmed'] = df_pop['% confirmed'].apply(str) + \"%\"\n",
    "    \n",
    "    jnd = '|'.join(county_list)\n",
    "    df_find = df_pop[df_pop['location'].str.contains(jnd)]\n",
    "    return df_find\n"
   ]
  },
  {
   "cell_type": "code",
   "execution_count": 289,
   "metadata": {},
   "outputs": [
    {
     "data": {
      "text/html": [
       "<div>\n",
       "<style scoped>\n",
       "    .dataframe tbody tr th:only-of-type {\n",
       "        vertical-align: middle;\n",
       "    }\n",
       "\n",
       "    .dataframe tbody tr th {\n",
       "        vertical-align: top;\n",
       "    }\n",
       "\n",
       "    .dataframe thead th {\n",
       "        text-align: right;\n",
       "    }\n",
       "</style>\n",
       "<table border=\"1\" class=\"dataframe\">\n",
       "  <thead>\n",
       "    <tr style=\"text-align: right;\">\n",
       "      <th></th>\n",
       "      <th>location</th>\n",
       "      <th>latitude</th>\n",
       "      <th>longitude</th>\n",
       "      <th>confirmed</th>\n",
       "      <th>dead</th>\n",
       "      <th>recovered</th>\n",
       "      <th>updated</th>\n",
       "      <th>Population</th>\n",
       "      <th>% confirmed</th>\n",
       "    </tr>\n",
       "  </thead>\n",
       "  <tbody>\n",
       "    <tr>\n",
       "      <th>75</th>\n",
       "      <td>Suffolk County, Massachusetts</td>\n",
       "      <td>42.352287</td>\n",
       "      <td>-71.050423</td>\n",
       "      <td>1,115</td>\n",
       "      <td>6.0</td>\n",
       "      <td>NaN</td>\n",
       "      <td>2020-03-30 14:40:09.624811+00:00</td>\n",
       "      <td>803,907</td>\n",
       "      <td>0.14%</td>\n",
       "    </tr>\n",
       "    <tr>\n",
       "      <th>191</th>\n",
       "      <td>Queens County, New York</td>\n",
       "      <td>40.728224</td>\n",
       "      <td>-73.794852</td>\n",
       "      <td>12,756</td>\n",
       "      <td>0.0</td>\n",
       "      <td>NaN</td>\n",
       "      <td>2020-03-31 14:40:08.196428+00:00</td>\n",
       "      <td>2,253,858</td>\n",
       "      <td>0.57%</td>\n",
       "    </tr>\n",
       "    <tr>\n",
       "      <th>260</th>\n",
       "      <td>Bronx County, New York</td>\n",
       "      <td>40.837049</td>\n",
       "      <td>-73.865430</td>\n",
       "      <td>6,925</td>\n",
       "      <td>0.0</td>\n",
       "      <td>NaN</td>\n",
       "      <td>2020-03-31 14:40:08.182389+00:00</td>\n",
       "      <td>1,418,207</td>\n",
       "      <td>0.49%</td>\n",
       "    </tr>\n",
       "    <tr>\n",
       "      <th>1550</th>\n",
       "      <td>Cuyahoga County, Ohio</td>\n",
       "      <td>41.433923</td>\n",
       "      <td>-81.675820</td>\n",
       "      <td>493</td>\n",
       "      <td>4.0</td>\n",
       "      <td>NaN</td>\n",
       "      <td>2020-03-30 14:40:09.624811+00:00</td>\n",
       "      <td>1,235,072</td>\n",
       "      <td>0.04%</td>\n",
       "    </tr>\n",
       "    <tr>\n",
       "      <th>1563</th>\n",
       "      <td>Summit County, Ohio</td>\n",
       "      <td>41.091899</td>\n",
       "      <td>-81.559643</td>\n",
       "      <td>118</td>\n",
       "      <td>5.0</td>\n",
       "      <td>NaN</td>\n",
       "      <td>2020-03-30 14:40:09.624811+00:00</td>\n",
       "      <td>541,013</td>\n",
       "      <td>0.02%</td>\n",
       "    </tr>\n",
       "    <tr>\n",
       "      <th>1832</th>\n",
       "      <td>Walker County, Texas</td>\n",
       "      <td>30.681539</td>\n",
       "      <td>-95.645795</td>\n",
       "      <td>3</td>\n",
       "      <td>0.0</td>\n",
       "      <td>NaN</td>\n",
       "      <td>2020-03-30 14:40:09.624811+00:00</td>\n",
       "      <td>72,971</td>\n",
       "      <td>0.0%</td>\n",
       "    </tr>\n",
       "  </tbody>\n",
       "</table>\n",
       "</div>"
      ],
      "text/plain": [
       "                           location   latitude  longitude confirmed  dead  \\\n",
       "75    Suffolk County, Massachusetts  42.352287 -71.050423     1,115   6.0   \n",
       "191         Queens County, New York  40.728224 -73.794852    12,756   0.0   \n",
       "260          Bronx County, New York  40.837049 -73.865430     6,925   0.0   \n",
       "1550          Cuyahoga County, Ohio  41.433923 -81.675820       493   4.0   \n",
       "1563            Summit County, Ohio  41.091899 -81.559643       118   5.0   \n",
       "1832           Walker County, Texas  30.681539 -95.645795         3   0.0   \n",
       "\n",
       "      recovered                           updated Population % confirmed  \n",
       "75          NaN  2020-03-30 14:40:09.624811+00:00    803,907       0.14%  \n",
       "191         NaN  2020-03-31 14:40:08.196428+00:00  2,253,858       0.57%  \n",
       "260         NaN  2020-03-31 14:40:08.182389+00:00  1,418,207       0.49%  \n",
       "1550        NaN  2020-03-30 14:40:09.624811+00:00  1,235,072       0.04%  \n",
       "1563        NaN  2020-03-30 14:40:09.624811+00:00    541,013       0.02%  \n",
       "1832        NaN  2020-03-30 14:40:09.624811+00:00     72,971        0.0%  "
      ]
     },
     "execution_count": 289,
     "metadata": {},
     "output_type": "execute_result"
    }
   ],
   "source": [
    "county_tracker(df_citycounty)"
   ]
  },
  {
   "cell_type": "code",
   "execution_count": null,
   "metadata": {},
   "outputs": [],
   "source": []
  }
 ],
 "metadata": {
  "kernelspec": {
   "display_name": "Python 3",
   "language": "python",
   "name": "python3"
  },
  "language_info": {
   "codemirror_mode": {
    "name": "ipython",
    "version": 3
   },
   "file_extension": ".py",
   "mimetype": "text/x-python",
   "name": "python",
   "nbconvert_exporter": "python",
   "pygments_lexer": "ipython3",
   "version": "3.7.3"
  }
 },
 "nbformat": 4,
 "nbformat_minor": 4
}
