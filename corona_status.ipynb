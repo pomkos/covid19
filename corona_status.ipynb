{
 "cells": [
  {
   "cell_type": "markdown",
   "metadata": {},
   "source": [
    "* json how to: https://realpython.com/python-requests/\n",
    "* USA source: https://covidtracking.com/us-daily/\n",
    "* world source: https://www.trackcorona.live\n",
    "* state pop source: https://www.census.gov/data/datasets/time-series/demo/popest/2010s-state-total.html#par_textimage_1873399417\n",
    "* state abbreviation source: https://www.50states.com/abbreviations.htm"
   ]
  },
  {
   "cell_type": "markdown",
   "metadata": {},
   "source": [
    "# State"
   ]
  },
  {
   "cell_type": "code",
   "execution_count": 2,
   "metadata": {},
   "outputs": [],
   "source": [
    "import pandas as pd\n",
    "import numpy as np\n",
    "import matplotlib.pyplot as plt\n",
    "import seaborn as sns\n",
    "import requests"
   ]
  },
  {
   "cell_type": "code",
   "execution_count": 3,
   "metadata": {},
   "outputs": [
    {
     "name": "stdout",
     "output_type": "stream",
     "text": [
      "Success!\n"
     ]
    }
   ],
   "source": [
    "state_response = requests.get('https://covidtracking.com/api/states')\n",
    "\n",
    "if state_response.status_code == 200:\n",
    "    print('Success!')\n",
    "else:\n",
    "    print('An error has occurred')\n",
    "    exit()\n"
   ]
  },
  {
   "cell_type": "code",
   "execution_count": 4,
   "metadata": {},
   "outputs": [],
   "source": [
    "# Convert json to df\n",
    "df_state = pd.json_normalize(state_response.json())"
   ]
  },
  {
   "cell_type": "code",
   "execution_count": 5,
   "metadata": {},
   "outputs": [],
   "source": [
    "# Import states, abbreviations, state population\n",
    "abbrevs = pd.read_csv('abbrevs.csv')\n",
    "statepop = pd.read_csv('statepop.csv').iloc[5:].loc[:,('NAME','POPESTIMATE2019')].reset_index(drop = True)\n",
    "state_pop = abbrevs.merge(statepop, left_on='State', right_on='NAME').loc[:,('NAME','Abbreviation','POPESTIMATE2019')]\n",
    "state_pop.columns = ['state','abbrev','Pop2019']"
   ]
  },
  {
   "cell_type": "code",
   "execution_count": 6,
   "metadata": {},
   "outputs": [],
   "source": [
    "class state_tracker:\n",
    "    '''\n",
    "    Returns covid stats, sorts by preference, and plots results\n",
    "    '''\n",
    "    def __init__(self, df, state_pop=state_pop, states_list=['MA', 'TX', 'OH', 'VT']):\n",
    "        '''\n",
    "        Selects appropriate columns and filters by state. Calculates percent deaths and percent hospitalized.\n",
    "        \n",
    "        % Deaths = Deaths/Positive\n",
    "        % Hospitalized = Hospitalized/Positive\n",
    "        '''\n",
    "        # Select appropriate columns\n",
    "        self.df = df[['state','positive','negative','hospitalized','death','lastUpdateEt']]\n",
    "        # Rename columns\n",
    "        self.df.columns = ['State', 'Positive', 'Negative', 'Hospitalized', 'Deaths', 'Last Updated']\n",
    "        # Replace NaN with 0\n",
    "        self.df = self.df.fillna(0)\n",
    "        \n",
    "        self.state_pop = state_pop\n",
    "        self.merged = self.df.merge(self.state_pop, left_on='State', right_on='abbrev')\n",
    "        self.merged = self.merged.drop(['state','abbrev'], 1)\n",
    "        df_select = pd.DataFrame({        \n",
    "                'State':[], \n",
    "                'Positive':[], \n",
    "                'Negative':[], \n",
    "                'Hospitalized':[], \n",
    "                'Deaths':[], \n",
    "                '% Deaths':[], \n",
    "                '% Hospitalized':[],\n",
    "                'Last Updated':[],\n",
    "                'Pop2019':[]\n",
    "            })\n",
    "        \n",
    "        for i in range(0,len(states_list)):\n",
    "            state = self.merged[self.merged['State']== states_list[i]]\n",
    "            df_select = df_select.append(state)\n",
    "        \n",
    "        # Percent death calculation\n",
    "        df_select['% Deaths'] = round((df_select['Deaths']/df_select['Positive']) *100,2)\n",
    "        df_select['% Hospitalized'] = round((df_select['Hospitalized']/df_select['Positive']) *100,2)\n",
    "        df_select['% Pop Positive'] = round((df_select['Positive']/df_select['Pop2019']) *100,2)\n",
    "        self.df_select = pd.DataFrame(df_select)\n",
    "    def all_df(self):\n",
    "        '''\n",
    "        Returns all states, select columns only.\n",
    "        '''\n",
    "        return self.merged\n",
    "    \n",
    "    def plotter(self, sort_by=\"% Hospitalized\"):\n",
    "        '''\n",
    "        Plots the formatted df by the sort_by variable.\n",
    "        '''\n",
    "        df = self.df_select.sort_values(sort_by, ascending=False)\n",
    "        sns.barplot(x = df.State, y = df[sort_by])\n",
    "        plt.title(f\"Number of {sort_by} results per State\")\n",
    "        \n",
    "        return plt.show()\n",
    "    \n",
    "    def table(self, sort_by=\"% Hospitalized\"):\n",
    "        '''\n",
    "        Returns the formatted df, but in a readable and prettified table\n",
    "        \n",
    "        Adds commas at 1000 values\n",
    "        Adds % to the percent tables\n",
    "        All values are in string\n",
    "        '''\n",
    "        df_select = self.df_select\n",
    "        df_select = df_select.sort_values(sort_by, ascending = False)\n",
    "\n",
    "        # Prettify output\n",
    "        # Format percentages\n",
    "        df_select['% Deaths'] = df_select['% Deaths'].apply(str) + \"%\"\n",
    "        df_select['% Hospitalized'] = df_select['% Hospitalized'].apply(str) + \"%\"\n",
    "        df_select['% Pop Positive'] = df_select['% Pop Positive'].apply(str) + \"%\"\n",
    "\n",
    "        # Round floats to just integers, use commas to separate\n",
    "        columns = ['Positive', 'Negative', 'Hospitalized', 'Deaths', 'Pop2019']\n",
    "\n",
    "        for col in columns:\n",
    "            df_select[col] = pd.to_numeric(df_select[col]).apply(round)\n",
    "            df_select[col] = df_select[col].apply(lambda x: \"{:,}\".format(x))\n",
    "        self.table = df_select\n",
    "        return(self.table)\n"
   ]
  },
  {
   "cell_type": "code",
   "execution_count": 7,
   "metadata": {},
   "outputs": [],
   "source": [
    "yan = ['MA', 'TX', 'OH', 'VT', 'NY', 'NJ', 'CA']\n",
    "chat = ['MA', 'TX', 'OH', 'VT']"
   ]
  },
  {
   "cell_type": "code",
   "execution_count": 8,
   "metadata": {},
   "outputs": [
    {
     "data": {
      "image/png": "[encoded data removed]",
      "text/plain": [
       "<Figure size 432x288 with 1 Axes>"
      ]
     },
     "metadata": {
      "needs_background": "light"
     },
     "output_type": "display_data"
    }
   ],
   "source": [
    "covid = state_tracker(df_state, states_list=yan)\n",
    "covid.plotter(sort_by=\"Positive\")"
   ]
  },
  {
   "cell_type": "code",
   "execution_count": 9,
   "metadata": {},
   "outputs": [
    {
     "data": {
      "text/html": [
       "<div>\n",
       "<style scoped>\n",
       "    .dataframe tbody tr th:only-of-type {\n",
       "        vertical-align: middle;\n",
       "    }\n",
       "\n",
       "    .dataframe tbody tr th {\n",
       "        vertical-align: top;\n",
       "    }\n",
       "\n",
       "    .dataframe thead th {\n",
       "        text-align: right;\n",
       "    }\n",
       "</style>\n",
       "<table border=\"1\" class=\"dataframe\">\n",
       "  <thead>\n",
       "    <tr style=\"text-align: right;\">\n",
       "      <th></th>\n",
       "      <th>State</th>\n",
       "      <th>Positive</th>\n",
       "      <th>Negative</th>\n",
       "      <th>Hospitalized</th>\n",
       "      <th>Deaths</th>\n",
       "      <th>% Deaths</th>\n",
       "      <th>% Hospitalized</th>\n",
       "      <th>Last Updated</th>\n",
       "      <th>Pop2019</th>\n",
       "      <th>% Pop Positive</th>\n",
       "    </tr>\n",
       "  </thead>\n",
       "  <tbody>\n",
       "    <tr>\n",
       "      <th>4</th>\n",
       "      <td>CA</td>\n",
       "      <td>6,447</td>\n",
       "      <td>20,549</td>\n",
       "      <td>1,432</td>\n",
       "      <td>133</td>\n",
       "      <td>2.06%</td>\n",
       "      <td>22.21%</td>\n",
       "      <td>3/30 00:00</td>\n",
       "      <td>39,512,223</td>\n",
       "      <td>0.02%</td>\n",
       "    </tr>\n",
       "    <tr>\n",
       "      <th>42</th>\n",
       "      <td>TX</td>\n",
       "      <td>2,877</td>\n",
       "      <td>33,003</td>\n",
       "      <td>0</td>\n",
       "      <td>34</td>\n",
       "      <td>1.18%</td>\n",
       "      <td>0.0%</td>\n",
       "      <td>3/30 12:45</td>\n",
       "      <td>28,995,881</td>\n",
       "      <td>0.01%</td>\n",
       "    </tr>\n",
       "    <tr>\n",
       "      <th>33</th>\n",
       "      <td>NY</td>\n",
       "      <td>66,497</td>\n",
       "      <td>119,971</td>\n",
       "      <td>13,721</td>\n",
       "      <td>1,218</td>\n",
       "      <td>1.83%</td>\n",
       "      <td>20.63%</td>\n",
       "      <td>3/29 09:16</td>\n",
       "      <td>19,453,561</td>\n",
       "      <td>0.34%</td>\n",
       "    </tr>\n",
       "    <tr>\n",
       "      <th>34</th>\n",
       "      <td>OH</td>\n",
       "      <td>1,933</td>\n",
       "      <td>25,342</td>\n",
       "      <td>475</td>\n",
       "      <td>39</td>\n",
       "      <td>2.02%</td>\n",
       "      <td>24.57%</td>\n",
       "      <td>3/30 14:00</td>\n",
       "      <td>11,689,100</td>\n",
       "      <td>0.02%</td>\n",
       "    </tr>\n",
       "    <tr>\n",
       "      <th>30</th>\n",
       "      <td>NJ</td>\n",
       "      <td>16,636</td>\n",
       "      <td>25,224</td>\n",
       "      <td>0</td>\n",
       "      <td>198</td>\n",
       "      <td>1.19%</td>\n",
       "      <td>0.0%</td>\n",
       "      <td>3/29 13:30</td>\n",
       "      <td>8,882,190</td>\n",
       "      <td>0.19%</td>\n",
       "    </tr>\n",
       "    <tr>\n",
       "      <th>18</th>\n",
       "      <td>MA</td>\n",
       "      <td>5,752</td>\n",
       "      <td>37,041</td>\n",
       "      <td>453</td>\n",
       "      <td>56</td>\n",
       "      <td>0.97%</td>\n",
       "      <td>7.88%</td>\n",
       "      <td>3/30 16:15</td>\n",
       "      <td>6,892,503</td>\n",
       "      <td>0.08%</td>\n",
       "    </tr>\n",
       "    <tr>\n",
       "      <th>45</th>\n",
       "      <td>VT</td>\n",
       "      <td>256</td>\n",
       "      <td>3,674</td>\n",
       "      <td>18</td>\n",
       "      <td>12</td>\n",
       "      <td>4.69%</td>\n",
       "      <td>7.03%</td>\n",
       "      <td>3/30 13:00</td>\n",
       "      <td>623,989</td>\n",
       "      <td>0.04%</td>\n",
       "    </tr>\n",
       "  </tbody>\n",
       "</table>\n",
       "</div>"
      ],
      "text/plain": [
       "   State Positive Negative Hospitalized Deaths % Deaths % Hospitalized  \\\n",
       "4     CA    6,447   20,549        1,432    133    2.06%         22.21%   \n",
       "42    TX    2,877   33,003            0     34    1.18%           0.0%   \n",
       "33    NY   66,497  119,971       13,721  1,218    1.83%         20.63%   \n",
       "34    OH    1,933   25,342          475     39    2.02%         24.57%   \n",
       "30    NJ   16,636   25,224            0    198    1.19%           0.0%   \n",
       "18    MA    5,752   37,041          453     56    0.97%          7.88%   \n",
       "45    VT      256    3,674           18     12    4.69%          7.03%   \n",
       "\n",
       "   Last Updated     Pop2019 % Pop Positive  \n",
       "4    3/30 00:00  39,512,223          0.02%  \n",
       "42   3/30 12:45  28,995,881          0.01%  \n",
       "33   3/29 09:16  19,453,561          0.34%  \n",
       "34   3/30 14:00  11,689,100          0.02%  \n",
       "30   3/29 13:30   8,882,190          0.19%  \n",
       "18   3/30 16:15   6,892,503          0.08%  \n",
       "45   3/30 13:00     623,989          0.04%  "
      ]
     },
     "execution_count": 9,
     "metadata": {},
     "output_type": "execute_result"
    }
   ],
   "source": [
    "covid.table(sort_by = \"Pop2019\")"
   ]
  },
  {
   "cell_type": "code",
   "execution_count": 11,
   "metadata": {},
   "outputs": [
    {
     "name": "stdout",
     "output_type": "stream",
     "text": [
      "Totals in the USA to date:\n",
      "     Infected: 159,865\n",
      "     Hospitalized: 22,284\n",
      "     Deaths: 2,923\n"
     ]
    }
   ],
   "source": [
    "all_df = covid.all_df()\n",
    "all_pos = all_df.sum()[\"Positive\"]\n",
    "all_dead = all_df.sum()[\"Deaths\"]\n",
    "all_hosp = all_df.sum()[\"Hospitalized\"]\n",
    "\n",
    "print(\"Totals in the USA to date:\")\n",
    "print(f'     Infected: {\"{:,}\".format(round(all_pos))}')\n",
    "print(f'     Hospitalized: {\"{:,}\".format(round(all_hosp))}') \n",
    "print(f'     Deaths: {\"{:,}\".format(round(all_dead))}')"
   ]
  },
  {
   "cell_type": "markdown",
   "metadata": {},
   "source": [
    "# World"
   ]
  },
  {
   "cell_type": "code",
   "execution_count": null,
   "metadata": {},
   "outputs": [],
   "source": [
    "import time"
   ]
  },
  {
   "cell_type": "code",
   "execution_count": null,
   "metadata": {},
   "outputs": [],
   "source": [
    "world_response = requests.get('https://www.trackcorona.live/api/countries/')\n",
    "\n",
    "if world_response.status_code == 200:\n",
    "    print('Success!')\n",
    "else:\n",
    "    print('An error has occurred')\n",
    "    exit()"
   ]
  },
  {
   "cell_type": "code",
   "execution_count": null,
   "metadata": {},
   "outputs": [],
   "source": [
    "# Convert json to df\n",
    "df_world = pd.json_normalize(world_response.json()['data'])"
   ]
  },
  {
   "cell_type": "code",
   "execution_count": null,
   "metadata": {},
   "outputs": [],
   "source": [
    "country_list = ['United States', 'Hungary', 'Jordan', 'Brazil', 'Cambodia', 'Germany']"
   ]
  },
  {
   "cell_type": "code",
   "execution_count": null,
   "metadata": {},
   "outputs": [],
   "source": [
    "def world_tracker(df, country_list=country_list):\n",
    "    df = df.set_index(\"location\").loc[country_list, ['confirmed','dead','recovered','updated']]\n",
    "    df.columns = [\"Confirmed\", \"Dead\", \"Recovered\", \"Updated\"]\n",
    "    df = df.sort_values(\"Confirmed\", ascending=False)\n",
    "    return df"
   ]
  },
  {
   "cell_type": "code",
   "execution_count": null,
   "metadata": {},
   "outputs": [],
   "source": [
    "df = world_tracker(df_world)"
   ]
  },
  {
   "cell_type": "code",
   "execution_count": null,
   "metadata": {},
   "outputs": [],
   "source": [
    "df.head()"
   ]
  },
  {
   "cell_type": "code",
   "execution_count": null,
   "metadata": {},
   "outputs": [],
   "source": [
    "from datetime import datetime\n",
    "datetime.strptime(df['Updated'][0][:19], \"%Y-%m-%d %H:%M:%S\")"
   ]
  },
  {
   "cell_type": "code",
   "execution_count": null,
   "metadata": {},
   "outputs": [],
   "source": [
    "help(datetime.strptime)"
   ]
  },
  {
   "cell_type": "code",
   "execution_count": null,
   "metadata": {},
   "outputs": [],
   "source": []
  },
  {
   "cell_type": "markdown",
   "metadata": {},
   "source": [
    "# Cities"
   ]
  },
  {
   "cell_type": "code",
   "execution_count": null,
   "metadata": {},
   "outputs": [],
   "source": [
    "city_response = requests.get('https://www.trackcorona.live/api/cities/')\n",
    "\n",
    "if city_response.status_code == 200:\n",
    "    print('Success!')\n",
    "else:\n",
    "    print('An error has occurred')\n",
    "    exit()"
   ]
  },
  {
   "cell_type": "code",
   "execution_count": null,
   "metadata": {},
   "outputs": [],
   "source": [
    "# Convert json to df\n",
    "df_city = pd.json_normalize(city_response.json()['data'])"
   ]
  },
  {
   "cell_type": "code",
   "execution_count": null,
   "metadata": {},
   "outputs": [],
   "source": [
    "df_city.set_index(\"location\")"
   ]
  }
 ],
 "metadata": {
  "kernelspec": {
   "display_name": "Python 3",
   "language": "python",
   "name": "python3"
  },
  "language_info": {
   "codemirror_mode": {
    "name": "ipython",
    "version": 3
   },
   "file_extension": ".py",
   "mimetype": "text/x-python",
   "name": "python",
   "nbconvert_exporter": "python",
   "pygments_lexer": "ipython3",
   "version": "3.7.3"
  }
 },
 "nbformat": 4,
 "nbformat_minor": 4
}
